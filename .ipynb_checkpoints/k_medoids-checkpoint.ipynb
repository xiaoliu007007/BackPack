{
 "cells": [
  {
   "cell_type": "code",
   "execution_count": 277,
   "metadata": {
    "scrolled": true
   },
   "outputs": [],
   "source": [
    "import numpy as np\n",
    "import matplotlib.pyplot as plt\n",
    "from sklearn import datasets"
   ]
  },
  {
   "cell_type": "code",
   "execution_count": 278,
   "metadata": {},
   "outputs": [],
   "source": [
    "import os\n",
    "num=[]\n",
    "Z = []\n",
    "path = '/Users/liuyingjie/Downloads/data/DBSCAN/'\n",
    "filenames = os.listdir(path)\n",
    "indexs = []\n",
    "for filename in filenames:\n",
    "    if filename.startswith(\".\"):\n",
    "        continue\n",
    "    indexs.append(int(filename))\n",
    "indexs.sort()\n",
    "#print(indexs)\n",
    "for index in indexs:\n",
    "    file_path = path + str(index)\n",
    "    with open(file_path,'r',encoding='utf8') as f:\n",
    "        lines=f.readlines()\n",
    "    for i in range(99, 119):\n",
    "        temps = lines[i].split()\n",
    "        point=[]\n",
    "        point.append(int(temps[2]))\n",
    "        point.append(int(temps[3]))\n",
    "        num.append(point)\n",
    "    for line in lines:\n",
    "        temps = line.split()\n",
    "        size = len(temps)\n",
    "        if(size == 11 and temps[0]=='10000000'):\n",
    "            Z.append(int(float(temps[1])*37000000000))\n",
    "            Z.append(int(float(temps[6])*37000000000))\n",
    "        if(size == 16 and temps[0] == '10000000'):\n",
    "            Z.append(int(float(temps[1])*37000000000))\n",
    "            Z.append(int(float(temps[6])*37000000000))\n",
    "            Z.append(int(float(temps[11])*37000000000))\n",
    "            \n",
    "for i in range(len(Z)):\n",
    "    num[i].append(Z[i])\n",
    "#print(num)"
   ]
  },
  {
   "cell_type": "code",
   "execution_count": 279,
   "metadata": {},
   "outputs": [],
   "source": [
    "x1=[]\n",
    "x2=[]\n",
    "\n",
    "def getCircle(p1, p2, p3):\n",
    "    circle=[]\n",
    "    x21 = p2[0] - p1[0]\n",
    "    y21 = p2[1] - p1[1]\n",
    "    x32 = p3[0] - p2[0]\n",
    "    y32 = p3[1] - p2[1]\n",
    "    # three colinear\n",
    "    if (x21 * y32 - x32 * y21 == 0 or x21==0):\n",
    "        return None\n",
    "    xy21 = p2[0] * p2[0] - p1[0] * p1[0] + p2[1]* p2[1]- p1[1] * p1[1]\n",
    "    xy32 = p3[0] * p3[0] - p2[0] * p2[0] + p3[1] * p3[1] - p2[1] * p2[1]\n",
    "    y0 = (x32 * xy21 - x21 * xy32) / (2 * (y21 * x32 - y32 * x21))\n",
    "    x0 = (xy21 - 2 * y0 * y21) / (2.0 * x21)\n",
    "    circle.append(x0)\n",
    "    circle.append(y0)\n",
    "    return circle\n",
    "\n",
    "\n",
    "num.sort(key=lambda k:k[2],reverse=False)\n",
    "#print(num)\n",
    "res=[]\n",
    "#误差设计\n",
    "interval=370;\n",
    "for i in range(len(num)):\n",
    "    for j in range(i+1,len(num)):\n",
    "        if num[j][2]-num[i][2]>interval:\n",
    "            break\n",
    "        for n in range(j+1,len(num)):\n",
    "            if num[n][2]-num[i][2]>interval:\n",
    "                break\n",
    "            ans=getCircle(num[i],num[j],num[n])\n",
    "            if ans:\n",
    "                x1.append(ans[0])\n",
    "                x2.append(ans[1])\n",
    "#print(x1,x2)\n"
   ]
  },
  {
   "cell_type": "code",
   "execution_count": 280,
   "metadata": {
    "scrolled": true
   },
   "outputs": [
    {
     "data": {
      "image/png": "[encoded data removed]",
      "text/plain": [
       "<Figure size 432x288 with 1 Axes>"
      ]
     },
     "metadata": {
      "needs_background": "light"
     },
     "output_type": "display_data"
    }
   ],
   "source": [
    "plt.plot(x1,x2,'ro')\n",
    "plt.show()\n",
    "x_=np.array(x1)\n",
    "x_.reshape(-1,1)\n",
    "y_=np.array(x2)\n",
    "y_.reshape(-1,1)\n",
    "\n",
    "xn=np.array([x_,y_])\n",
    "Xn=np.transpose(xn)\n",
    "dataLen = len(Xn)\n",
    "#print(Xn)"
   ]
  },
  {
   "cell_type": "code",
   "execution_count": 612,
   "metadata": {},
   "outputs": [],
   "source": [
    "from numpy import *\n",
    "import time\n",
    "import matplotlib.pyplot as plt\n",
    "\n",
    "\n",
    "# calculate Euclidean distance 欧几里得度量\n",
    "def euclDistance(vector1, vector2):\n",
    "    return sqrt(sum(power(vector2 - vector1, 2)))  # 求这两个矩阵的距离，vector1、2均为矩阵\n",
    "\n",
    "# init centroids with random samples\n",
    "# 在样本集中随机选取k个样本点作为初始质心\n",
    "def initCentroids(dataSet, k):\n",
    "    numSamples, dim = dataSet.shape  # 矩阵的行数、列数\n",
    "    centroids = zeros((k, dim))  # 感觉要不要你都可以\n",
    "    #centroids[0, :]=mean(dataSet, axis=0)\n",
    "    centroids[0, :] =[median(dataSet[:,0]),median(dataSet[:,1])]\n",
    "    #print(centroids[0, :])\n",
    "    i=1\n",
    "    while i<k :\n",
    "        index = int(random.uniform(0, numSamples))  # 随机产生一个浮点数，然后将其转化为int型\n",
    "        if euclDistance(centroids[0, :], dataSet[index, :])<20:\n",
    "            continue;\n",
    "        centroids[i, :] = dataSet[index, :]\n",
    "        i+=1\n",
    "    #print(centroids)\n",
    "    return centroids\n",
    "\n",
    "\n",
    "# k-means cluster\n",
    "# dataSet为一个矩阵\n",
    "# k为将dataSet矩阵中的样本分成k个类\n",
    "def kmeans(dataSet, k):\n",
    "    max,maxLen=[],0\n",
    "    numSamples = dataSet.shape[0]  # 读取矩阵dataSet的第一维度的长度,即获得有多少个样本数据\n",
    "    # first column stores which cluster this sample belongs to,\n",
    "    # second column stores the error between this sample and its centroid\n",
    "    clusterAssment = mat(zeros((numSamples, 2)))  # 得到一个N*2的零矩阵\n",
    "    clusterChanged = True\n",
    "    #times=0\n",
    "\n",
    "    ## step 1: init centroids\n",
    "    centroids = initCentroids(dataSet, k)  # 在样本集中随机选取k个样本点作为初始质心\n",
    "\n",
    "    while clusterChanged:\n",
    "        clusterChanged = False\n",
    "        #times+=1\n",
    "        ## for each sample\n",
    "        for i in range(numSamples):  # range\n",
    "            minDist = 100000.0\n",
    "            minIndex = 0\n",
    "            ## for each centroid\n",
    "            ## step 2: find the centroid who is closest\n",
    "            # 计算每个样本点与质点之间的距离，将其归内到距离最小的那一簇\n",
    "            for j in range(k):\n",
    "                distance = euclDistance(centroids[j, :], dataSet[i, :])\n",
    "                if distance < minDist:\n",
    "                    minDist = distance\n",
    "                    minIndex = j\n",
    "\n",
    "                    ## step 3: update its cluster\n",
    "            # k个簇里面与第i个样本距离最小的的标号和距离保存在clusterAssment中\n",
    "            # 若所有的样本不在变化，则退出while循环\n",
    "            if clusterAssment[i, 0] != minIndex :\n",
    "                clusterChanged = True\n",
    "                clusterAssment[i, :] = minIndex, minDist ** 2  # 两个**表示的是minDist的平方\n",
    "\n",
    "        ## step 4: update centroids 更新质心\n",
    "        for j in range(k):\n",
    "            # clusterAssment[:,0].A==j是找出矩阵clusterAssment中第一列元素中等于j的行的下标，返回的是一个以array的列表，第一个array为等于j的下标\n",
    "            pointsInCluster = dataSet[nonzero(clusterAssment[:, 0].A == j)[0]]  # 将dataSet矩阵中相对应的样本提取出来\n",
    "\n",
    "            #centroids[j, :] = mean(pointsInCluster, axis=0)  # 计算标注为j的所有样本的平均值\n",
    "            centroids[j, :] =[median(pointsInCluster[:,0]),median(pointsInCluster[:,1])] # 计算标注为j的所有样本的中位值\n",
    "            #代码修改部分\n",
    "            ##print(pointsInCluster)\n",
    "            if maxLen<(len(pointsInCluster)):\n",
    "                maxLen=len(pointsInCluster)\n",
    "                max=centroids[j, :]\n",
    "                \n",
    "\n",
    "    print('Congratulations, cluster complete!')\n",
    "    #print(pointsInCluster)\n",
    "    #print(median(pointsInCluster[:,1]))\n",
    "    #print(times)\n",
    "    #print(maxLen)\n",
    "    return max,centroids, clusterAssment\n",
    "\n",
    "\n",
    "# show your cluster only available with 2-D data\n",
    "# centroids为k个类别，其中保存着每个类别的质心\n",
    "# clusterAssment为样本的标记，第一列为此样本的类别号，第二列为到此类别质心的距离\n",
    "def showCluster(dataSet, k, centroids, clusterAssment):\n",
    "    numSamples, dim = dataSet.shape\n",
    "    if dim != 2:\n",
    "        print(\"Sorry! I can not draw because the dimension of your data is not 2!\")\n",
    "        return 1\n",
    "\n",
    "    mark = ['or', 'ob', 'og', 'ok', '^r', '+r', 'sr', 'dr', '<r', 'pr']\n",
    "    if k > len(mark):\n",
    "        print(\"Sorry! Your k is too large! please contact wojiushimogui\")\n",
    "        return 1\n",
    "\n",
    "        # draw all samples\n",
    "    for i in range(numSamples):\n",
    "        markIndex = int(clusterAssment[i, 0])  # 为样本指定颜色\n",
    "        plt.plot(dataSet[i, 0], dataSet[i, 1], mark[markIndex])\n",
    "\n",
    "    mark = ['Dr', 'Db', 'Dg', 'Dk', '^b', '+b', 'sb', 'db', '<b', 'pb']\n",
    "    # draw the centroids\n",
    "    for i in range(k):\n",
    "        plt.plot(centroids[i, 0], centroids[i, 1], mark[i], markersize=12)\n",
    "\n",
    "    plt.show()"
   ]
  },
  {
   "cell_type": "code",
   "execution_count": 634,
   "metadata": {
    "scrolled": true
   },
   "outputs": [
    {
     "name": "stdout",
     "output_type": "stream",
     "text": [
      "Congratulations, cluster complete!\n",
      "[100.   100.25]\n"
     ]
    }
   ],
   "source": [
    "ans,centroids, clusterAssment =kmeans(Xn,3)\n",
    "print(ans)\n",
    "#print(centroids)\n",
    "#print(clusterAssment)"
   ]
  },
  {
   "cell_type": "code",
   "execution_count": 586,
   "metadata": {
    "scrolled": true
   },
   "outputs": [
    {
     "data": {
      "image/png": "[encoded data removed]",
      "text/plain": [
       "<Figure size 432x288 with 1 Axes>"
      ]
     },
     "metadata": {
      "needs_background": "light"
     },
     "output_type": "display_data"
    }
   ],
   "source": [
    "showCluster(Xn,3,centroids, clusterAssment)"
   ]
  }
 ],
 "metadata": {
  "anaconda-cloud": {},
  "kernelspec": {
   "display_name": "Python 3",
   "language": "python",
   "name": "python3"
  },
  "language_info": {
   "codemirror_mode": {
    "name": "ipython",
    "version": 3
   },
   "file_extension": ".py",
   "mimetype": "text/x-python",
   "name": "python",
   "nbconvert_exporter": "python",
   "pygments_lexer": "ipython3",
   "version": "3.7.1rc2"
  }
 },
 "nbformat": 4,
 "nbformat_minor": 1
}
