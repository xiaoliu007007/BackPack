{
 "cells": [
  {
   "cell_type": "code",
   "execution_count": 136,
   "metadata": {},
   "outputs": [],
   "source": [
    "#BP神经网络\n",
    "%matplotlib qt5\n",
    "import os\n",
    "import numpy as np\n",
    "import matplotlib.pyplot as plt\n",
    "from keras.models import Sequential\n",
    "from keras.layers import Dense\n",
    "from keras.callbacks import Callback\n",
    "from sklearn.preprocessing import scale\n",
    "import matplotlib.pyplot as plt  \n",
    "from mpl_toolkits.mplot3d import Axes3D  "
   ]
  },
  {
   "cell_type": "code",
   "execution_count": 137,
   "metadata": {
    "scrolled": false
   },
   "outputs": [],
   "source": [
    "#训练数据\n",
    "X = []\n",
    "Y = []\n",
    "Z = []\n",
    "path = '/Users/liuyingjie/Downloads/data/BP/'\n",
    "filenames = os.listdir(path)\n",
    "indexs = []\n",
    "for filename in filenames:\n",
    "    if filename.startswith(\".\"):\n",
    "        continue\n",
    "    indexs.append(int(filename))\n",
    "indexs.sort()\n",
    "#print(indexs)\n",
    "for index in indexs:\n",
    "    file_path = path + str(index)\n",
    "    with open(file_path,'r',encoding='utf8') as f:\n",
    "        lines=f.readlines()\n",
    "    for num in range(99, 119):\n",
    "        #print(lines[num])\n",
    "        temps = lines[num].split()\n",
    "        X.append(int(temps[2]))\n",
    "        #print(X)\n",
    "        #print(float(temps[2])/100)\n",
    "        Y.append(int(temps[3]))\n",
    "        #print(float(temps[3])/100)\n",
    "    for line in lines:\n",
    "        temps = line.split()\n",
    "        size = len(temps)\n",
    "        #print(size)\n",
    "        if(size == 11 and temps[0]=='10000000'):\n",
    "            #print(temps)\n",
    "            Z.append(int(float(temps[1])*37000000000))\n",
    "            Z.append(int(float(temps[6])*37000000000))\n",
    "        if(size == 16 and temps[0] == '10000000'):\n",
    "            #print(temps)\n",
    "            Z.append(int(float(temps[1])*37000000000))\n",
    "            Z.append(int(float(temps[6])*37000000000))\n",
    "            Z.append(int(float(temps[11])*37000000000))\n",
    "            \n",
    "            "
   ]
  },
  {
   "cell_type": "code",
   "execution_count": 138,
   "metadata": {},
   "outputs": [],
   "source": [
    "#预测数据\n",
    "Point1=[90,110]#预测场左上角坐标\n",
    "Point2=[110,90]#预测场右下角坐标\n",
    "X_interval=0.3\n",
    "Y_interval=-0.3\n",
    "X_p = []\n",
    "Y_p = []\n",
    "X_start=Point1[0]-X_interval\n",
    "Y_start=Point1[1]-Y_interval\n",
    "while abs(Point2[0] -X_start)>=abs(X_interval)or abs(Point2[1]-Y_start)>=abs(Y_interval):\n",
    "    X_start=Point1[0]-X_interval\n",
    "    Y_start+=Y_interval\n",
    "    while abs(Point2[0] -X_start)>=abs(X_interval):\n",
    "        X_start+=X_interval\n",
    "        X_p.append(X_start)\n",
    "        Y_p.append(Y_start)\n",
    "#print(X_p)\n",
    "#print(Y_p)\n",
    "#print(len(X_p))\n",
    "#print(len(Y_p))"
   ]
  },
  {
   "cell_type": "code",
   "execution_count": 139,
   "metadata": {
    "scrolled": true
   },
   "outputs": [],
   "source": [
    "X_pred = scale(np.array(X_p))\n",
    "Y_pred = scale(np.array(Y_p))\n",
    "X_pred_ = np.array([X_pred,Y_pred])"
   ]
  },
  {
   "cell_type": "code",
   "execution_count": 140,
   "metadata": {},
   "outputs": [],
   "source": [
    "X = scale(np.array(X))\n",
    "Y = scale(np.array(Y))\n",
    "X_ = np.array([X,Y])"
   ]
  },
  {
   "cell_type": "code",
   "execution_count": 141,
   "metadata": {},
   "outputs": [],
   "source": [
    "Y_ = scale(np.array(Z))\n",
    "# X = [98+i/12 for i in range(48)]\n",
    "# Y = [98+i/12 for i in range(48)]\n",
    "# X, Y = np.meshgrid(X,Y)\n",
    "# X = X.reshape(2304,)\n",
    "# Y = Y.reshape(2304,)\n",
    "# X = np.array(X)\n",
    "# Y = np.array(Y)\n",
    "# Y_ = [1/((X[i]-99.8)**2+(Y[i]-99.8)**2+.5) for i in range(2304)]\n",
    "# Y_ = np.array(Y_)\n",
    "# X = scale(X)\n",
    "# Y = scale(Y)\n",
    "# X_ = np.array([X,Y])\n",
    "\n",
    "ax = plt.figure().add_subplot(111, projection = '3d')  \n",
    "ax.scatter(X_[0], X_[1], Y_, c = 'b', marker = '.') #点为红色三角形   \n",
    "ax.set_xlabel('X Label')  \n",
    "ax.set_ylabel('Y Label')  \n",
    "ax.set_zlabel('Z Label')  \n",
    "plt.show()"
   ]
  },
  {
   "cell_type": "code",
   "execution_count": 142,
   "metadata": {
    "scrolled": true
   },
   "outputs": [
    {
     "data": {
      "text/plain": [
       "(2, 240)"
      ]
     },
     "execution_count": 142,
     "metadata": {},
     "output_type": "execute_result"
    }
   ],
   "source": [
    "X_.shape"
   ]
  },
  {
   "cell_type": "code",
   "execution_count": 146,
   "metadata": {},
   "outputs": [
    {
     "name": "stdout",
     "output_type": "stream",
     "text": [
      "98.39999999999992\n",
      "101.60000000000008\n"
     ]
    }
   ],
   "source": [
    "from keras.layers import Dense, Activation\n",
    "model = Sequential()\n",
    "model.add(Dense(units = 128, input_dim = 2))\n",
    "model.add(Activation(\"tanh\"))\n",
    "model.add(Dense(units = 128))\n",
    "model.add(Activation(\"tanh\"))\n",
    "model.add(Dense(units = 128))\n",
    "model.add(Activation(\"tanh\"))\n",
    "model.add(Dense(units = 1))\n",
    "model.add(Activation(\"linear\"))\n",
    "model.compile(loss='mean_squared_error', \n",
    "              optimizer='Adam', #Adam\n",
    "              metrics=['mae'])\n",
    "model.fit(X_.T, Y_.reshape((-1,1)), epochs = 100, batch_size =20, shuffle=True, verbose = 0)\n",
    "Y_pred = model.predict(X_pred_.T)\n",
    "max,ans=-123456,0\n",
    "for i in range(len(Y_pred)):\n",
    "    if Y_pred[i]>max:\n",
    "        ans=i\n",
    "        max=Y_pred[i]\n",
    "print(X_p[ans])\n",
    "print(Y_p[ans])"
   ]
  },
  {
   "cell_type": "code",
   "execution_count": 129,
   "metadata": {
    "scrolled": false
   },
   "outputs": [
    {
     "data": {
      "text/plain": [
       "<keras.callbacks.History at 0x151d9ff60>"
      ]
     },
     "execution_count": 129,
     "metadata": {},
     "output_type": "execute_result"
    }
   ],
   "source": [
    "from keras.layers import Dense, Activation\n",
    "from keras.layers import LeakyReLU,PReLU,ELU\n",
    "import datetime\n",
    "#start = datetime.datetime.now()\n",
    "#构建神经网络模型\n",
    "model = Sequential()\n",
    "model.add(Dense(units = 128, input_dim = 2))\n",
    "#model.add(PReLU(alpha_initializer='zeros'))\n",
    "model.add(Activation(\"tanh\"))\n",
    "model.add(Dense(units = 128))\n",
    "model.add(Activation(\"tanh\"))\n",
    "model.add(Dense(units = 128))\n",
    "model.add(Activation(\"tanh\"))\n",
    "model.add(Dense(units = 1))\n",
    "model.add(Activation(\"linear\"))\n",
    "#构建编译模型\n",
    "model.compile(loss='mean_squared_error', \n",
    "              optimizer='Adam', #Adam\n",
    "              metrics=['mae'])\n",
    "\n",
    "#训练\n",
    "model.fit(X_.T, Y_.reshape((-1,1)), epochs = 100, batch_size =20, shuffle=True, verbose = 0)\n",
    "#Y_pred = model.predict(X_pred_.T)\n",
    "#end = datetime.datetime.now()\n",
    "#print(end - start)"
   ]
  },
  {
   "cell_type": "code",
   "execution_count": 130,
   "metadata": {
    "scrolled": false
   },
   "outputs": [
    {
     "name": "stdout",
     "output_type": "stream",
     "text": [
      "240/240 [==============================] - 0s 1ms/step\n"
     ]
    },
    {
     "data": {
      "text/plain": [
       "[0.03139902806530396, 0.14423055574297905]"
      ]
     },
     "execution_count": 130,
     "metadata": {},
     "output_type": "execute_result"
    }
   ],
   "source": [
    "# 模型评估\n",
    "loss_and_metrics = model.evaluate(X_.T, Y_, batch_size=100)\n",
    "loss_and_metrics"
   ]
  },
  {
   "cell_type": "code",
   "execution_count": 131,
   "metadata": {
    "scrolled": true
   },
   "outputs": [],
   "source": [
    "#预测\n",
    "Y_pred = model.predict(X_pred_.T)"
   ]
  },
  {
   "cell_type": "code",
   "execution_count": 127,
   "metadata": {
    "scrolled": false
   },
   "outputs": [],
   "source": [
    "ax = plt.figure().add_subplot(111, projection = '3d')  \n",
    "ax.scatter(X_pred_[0], X_pred_[1], Y_pred, c = 'b', marker = 'o') #点为红色三角形  \n",
    "ax.set_xlabel('X Label')  \n",
    "ax.set_ylabel('Y Label')  \n",
    "ax.set_zlabel('Z Label')  \n",
    "plt.show()"
   ]
  },
  {
   "cell_type": "code",
   "execution_count": 132,
   "metadata": {},
   "outputs": [
    {
     "name": "stdout",
     "output_type": "stream",
     "text": [
      "99.8999999999999\n",
      "100.1000000000001\n"
     ]
    }
   ],
   "source": [
    "max=-123456\n",
    "ans=0\n",
    "for i in range(len(Y_pred)):\n",
    "    if Y_pred[i]>max:\n",
    "        ans=i\n",
    "        max=Y_pred[i]\n",
    "print(X_p[ans])\n",
    "print(Y_p[ans])"
   ]
  }
 ],
 "metadata": {
  "anaconda-cloud": {},
  "kernelspec": {
   "display_name": "Python 3",
   "language": "python",
   "name": "python3"
  },
  "language_info": {
   "codemirror_mode": {
    "name": "ipython",
    "version": 3
   },
   "file_extension": ".py",
   "mimetype": "text/x-python",
   "name": "python",
   "nbconvert_exporter": "python",
   "pygments_lexer": "ipython3",
   "version": "3.7.1rc2"
  }
 },
 "nbformat": 4,
 "nbformat_minor": 1
}
