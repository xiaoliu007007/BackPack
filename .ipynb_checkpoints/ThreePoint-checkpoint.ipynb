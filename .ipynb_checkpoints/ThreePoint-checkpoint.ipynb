{
 "cells": [
  {
   "cell_type": "code",
   "execution_count": 2,
   "metadata": {
    "scrolled": true
   },
   "outputs": [],
   "source": [
    "import numpy as np\n",
    "import matplotlib.pyplot as plt\n",
    "from sklearn import datasets"
   ]
  },
  {
   "cell_type": "code",
   "execution_count": 2,
   "metadata": {
    "scrolled": true
   },
   "outputs": [
    {
     "name": "stdout",
     "output_type": "stream",
     "text": [
      "[[95.0, 95.0, 22.89], [95.0, 95.2, 23.918], [95.0, 95.4, 25.091], [95.0, 95.6, 26.020000000000003], [95.0, 95.80000000000001, 27.192999999999998], [95.0, 96.00000000000001, 28.435], [95.0, 96.20000000000002, 29.414], [95.0, 96.40000000000002, 30.573999999999998], [95.0, 96.60000000000002, 31.768], [95.0, 96.80000000000001, 32.976], [95.0, 97.00000000000004, 34.342], [95.0, 97.20000000000003, 35.677], [95.0, 97.40000000000003, 37.012], [95.0, 97.60000000000004, 38.314], [95.0, 97.80000000000004, 39.348], [95.0, 98.00000000000004, 40.387], [95.0, 98.20000000000003, 41.506], [95.0, 98.40000000000005, 42.544], [95.0, 98.60000000000005, 43.479], [95.0, 98.80000000000005, 44.318], [95.80000000000001, 99.00000000000006, 64.029], [95.80000000000001, 99.20000000000006, 65.217], [95.80000000000001, 99.40000000000005, 66.255], [95.80000000000001, 99.60000000000008, 66.532], [95.80000000000001, 99.80000000000007, 66.68], [95.80000000000001, 100.00000000000007, 66.49900000000001], [95.80000000000001, 100.20000000000007, 65.991], [95.80000000000001, 100.40000000000008, 65.194], [95.80000000000001, 100.60000000000008, 64.087], [95.80000000000001, 100.8000000000001, 62.677], [95.80000000000001, 101.00000000000009, 61.12799999999999], [95.80000000000001, 101.20000000000009, 59.413000000000004], [95.80000000000001, 101.40000000000009, 57.503], [95.80000000000001, 101.6000000000001, 55.458999999999996], [95.80000000000001, 101.8000000000001, 53.268], [95.80000000000001, 102.00000000000009, 51.203], [95.80000000000001, 102.2000000000001, 49.24], [95.80000000000001, 102.4000000000001, 46.78], [95.80000000000001, 102.60000000000011, 44.809], [95.80000000000001, 102.80000000000011, 42.602]]\n",
      "40\n"
     ]
    }
   ],
   "source": [
    "import os\n",
    "num=[]\n",
    "Z = []\n",
    "path = '/Users/liuyingjie/Downloads/data/threePoint1/'\n",
    "#path = '/Users/liuyingjie/Downloads/data/DBSCAN/'\n",
    "#path = '/Users/liuyingjie/Downloads/data/BP/'\n",
    "filenames = os.listdir(path)\n",
    "indexs = []\n",
    "for filename in filenames:\n",
    "    if filename.startswith(\".\"):\n",
    "        continue\n",
    "    indexs.append(int(filename))\n",
    "indexs.sort()\n",
    "#print(indexs)\n",
    "for index in indexs:\n",
    "    file_path = path + str(index)\n",
    "    with open(file_path,'r',encoding='utf8') as f:\n",
    "        lines=f.readlines()\n",
    "    #for i in range(99, 119):\n",
    "    for i in range(34, 54):\n",
    "        #print(lines[i])\n",
    "        temps = lines[i].split()\n",
    "        point=[]\n",
    "        #point.append(int(temps[2]))\n",
    "        point.append(float(temps[2])/100)\n",
    "        #point.append(int(temps[3]))\n",
    "        point.append(float(temps[3])/100)\n",
    "        num.append(point)\n",
    "    for line in lines:\n",
    "        temps = line.split()\n",
    "        size = len(temps)\n",
    "        if(size == 11 and temps[0]=='10000000'):\n",
    "            Z.append(int(float(temps[1])*37000000000))\n",
    "            Z.append(int(float(temps[6])*37000000000))\n",
    "        if(size == 16 and temps[0] == '10000000'):\n",
    "            Z.append(int(float(temps[1])*37000000000))\n",
    "            Z.append(int(float(temps[6])*37000000000))\n",
    "            Z.append(int(float(temps[11])*37000000000))\n",
    "        if(size == 11 and temps[0] == '1000000'):\n",
    "            #print(temps)\n",
    "            Z.append(float(temps[1])*100000000)\n",
    "            Z.append(float(temps[6])*100000000)\n",
    "        if(size == 16 and temps[0] == '1000000'):\n",
    "            #print(temps)\n",
    "            Z.append(float(temps[1])*100000000)\n",
    "            Z.append(float(temps[6])*100000000)\n",
    "            Z.append(float(temps[11])*100000000)\n",
    "            \n",
    "for i in range(len(Z)):\n",
    "    num[i].append(Z[i])\n",
    "print(num)\n",
    "#num=[[95.0, 96.20000000000002, 29.414], [95.0, 96.40000000000002, 30.573999999999998], [95.0, 96.60000000000002, 31.768], [95.0, 96.80000000000001, 32.976], [95.0, 97.00000000000004, 34.342], [95.0, 97.20000000000003, 35.677], [95.0, 97.40000000000003, 37.012], [95.0, 97.60000000000004, 38.314], [95.0, 97.80000000000004, 39.348], [95.0, 98.00000000000004, 40.387], [95.0, 98.20000000000003, 41.506], [95.0, 98.40000000000005, 42.544], [95.0, 98.60000000000005, 43.479], [95.0, 98.80000000000005, 44.318], [95.80000000000001, 99.00000000000006, 64.029], [95.80000000000001, 99.20000000000006, 65.217], [95.80000000000001, 99.40000000000005, 66.255], [95.80000000000001, 99.60000000000008, 66.532], [95.80000000000001, 99.80000000000007, 66.68], [95.80000000000001, 100.00000000000007, 66.49900000000001], [95.80000000000001, 100.20000000000007, 65.991], [95.80000000000001, 100.40000000000008, 65.194]]\n",
    "print(len(num))"
   ]
  },
  {
   "cell_type": "code",
   "execution_count": 16,
   "metadata": {},
   "outputs": [
    {
     "name": "stdout",
     "output_type": "stream",
     "text": [
      "40\n",
      "441\n",
      "441\n",
      "441\n",
      "400\n",
      "[-521.0, 701.0]\n"
     ]
    }
   ],
   "source": [
    "def getDistance(num1,num2):\n",
    "    return pow(abs(num1[0]-num2[0]),2)+pow(abs(num1[1]-num2[1]),2)\n",
    "\n",
    "def setDiffValueOnPrePoint(prePoint,points):\n",
    "    ans=0\n",
    "    for point in points:\n",
    "        distance=getDistance(prePoint,point)\n",
    "        if distance!=0:\n",
    "            ans+=abs(point[2]-(prePoint[2]/distance))*(1-distance**0.5*0.0005)\n",
    "        else:\n",
    "            ans+=abs(point[2]-prePoint[2])\n",
    "    if len(prePoint)<4:\n",
    "        prePoint.append(ans)\n",
    "    else:\n",
    "        prePoint[3]=ans\n",
    "\n",
    "def setValueOnPrePoint(prePoint,point):\n",
    "    res=point[2]*getDistance(prePoint,point)/(1-getDistance(prePoint,point)**0.5*0.0005)\n",
    "    if len(prePoint)<3:\n",
    "        prePoint.append(res)\n",
    "    else:\n",
    "        prePoint[2]=res\n",
    "\n",
    "def createRegion(point,extendTimes,interval):\n",
    "    pointStart=[point[0]-extendTimes*interval,point[1]+extendTimes*interval]\n",
    "    pointEnd=[point[0]+extendTimes*interval,point[1]-extendTimes*interval]\n",
    "    #print(pointStart,pointEnd)\n",
    "    ans=[]\n",
    "    pointY,pointX=pointStart[1],pointStart[0]\n",
    "    while pointY>=pointEnd[1]:\n",
    "        pointX=pointStart[0]\n",
    "        while pointX<=pointEnd[0]:\n",
    "            res=[pointX,pointY]\n",
    "            ans.append(res)\n",
    "            pointX+=interval\n",
    "        pointY-=interval\n",
    "    #print(ans)\n",
    "    print(len(ans))\n",
    "    return ans\n",
    "\n",
    "def predictForWhile(midPoint,interval,num):\n",
    "    prePoints=createRegion(midPoint,10,interval)\n",
    "    \"\"\"\n",
    "    pointStart=prePoints[0]\n",
    "    pointEnd=prePoints[len(prePoints)-1]\n",
    "    \"\"\"\n",
    "    for prePoint in prePoints:\n",
    "        setValueOnPrePoint(prePoint,num[0])\n",
    "        setDiffValueOnPrePoint(prePoint,num)\n",
    "    #print(prePoints)\n",
    "    prePoints.sort(key=lambda k:k[3])\n",
    "    \"\"\"\n",
    "    if prePoints[0][0]==pointStart[0]:\n",
    "        midPoint[0]-=interval*4\n",
    "        return predictForWhile(midPoint,interval,num)\n",
    "    if prePoints[0][1]==pointStart[1]:\n",
    "        midPoint[1]+=interval*4\n",
    "        return predictForWhile(midPoint,interval,num)\n",
    "    if prePoints[0][0]==pointEnd[0]:\n",
    "        midPoint[0]+=interval*4\n",
    "        return predictForWhile(midPoint,interval,num)\n",
    "    if prePoints[0][0]==pointEnd[1]:\n",
    "        midPoint[1]-=interval*4\n",
    "        return predictForWhile(midPoint,interval,num)\n",
    "    \"\"\"\n",
    "    return prePoints\n",
    "\n",
    "def predict1(num):\n",
    "    num.sort(key=lambda k:k[2])\n",
    "    prePoints=createRegion([99.8,99.8],10,0.1)\n",
    "    for prePoint in prePoints:\n",
    "        setValueOnPrePoint(prePoint,num[0])\n",
    "        setDiffValueOnPrePoint(prePoint,num)\n",
    "    prePoints.sort(key=lambda k:k[3])\n",
    "    return prePoints[0]\n",
    "\n",
    "def predict(num,midPoint):\n",
    "    num.sort(key=lambda k:k[2])\n",
    "    prePoints=predictForWhile(midPoint,50,num)\n",
    "    prePoints=predictForWhile(prePoints[0],10,num)\n",
    "    prePoints=predictForWhile(prePoints[0],1,num)\n",
    "    prePoints=predictForWhile(prePoints[0],0.1,num)\n",
    "    return prePoints[0]\n",
    "\n",
    "print(len(num))\n",
    "ans=predict(num,[90,90]) \n",
    "print(ans[:2])"
   ]
  },
  {
   "cell_type": "code",
   "execution_count": 6,
   "metadata": {
    "scrolled": true
   },
   "outputs": [
    {
     "name": "stdout",
     "output_type": "stream",
     "text": [
      "[15.999999999999886, 16.039999999999853, 16.039999999999917, 16.159999999999844, 16.159999999999947, 16.35999999999981, 16.35999999999998, 16.63999999999979, 24.03999999999986, 24.479999999999844, 24.99999999999983, 25.599999999999866, 26.27999999999981, 27.039999999999804, 27.8799999999998, 28.799999999999798, 29.799999999999798, 30.87999999999972, 32.03999999999989, 33.27999999999981, 34.599999999999824, 35.99999999999983] [66.68, 66.532, 66.49900000000001, 66.255, 65.991, 65.217, 65.194, 64.029, 44.318, 43.479, 42.544, 41.506, 40.387, 39.348, 38.314, 37.012, 35.677, 34.342, 32.976, 31.768, 30.573999999999998, 29.414]\n"
     ]
    },
    {
     "data": {
      "image/png": "[encoded data removed]",
      "text/plain": [
       "<Figure size 432x288 with 1 Axes>"
      ]
     },
     "metadata": {
      "needs_background": "light"
     },
     "output_type": "display_data"
    }
   ],
   "source": [
    "numPoints=[]\n",
    "for numPoint in num:\n",
    "    distance=getDistance([99.8,99.8],numPoint)\n",
    "    res=[distance,numPoint[2]]\n",
    "    numPoints.append(res)\n",
    "numPoints.sort(key=lambda k:k[0],reverse=False)\n",
    "X=[]\n",
    "Y=[]\n",
    "for numPoint in numPoints:\n",
    "    X.append(numPoint[0])\n",
    "    Y.append(numPoint[1])\n",
    "print(X,Y)\n",
    "plt.plot(X,Y,'g-')\n",
    "plt.show()"
   ]
  },
  {
   "cell_type": "code",
   "execution_count": 82,
   "metadata": {},
   "outputs": [
    {
     "name": "stdout",
     "output_type": "stream",
     "text": [
      "[[99.49999999999999, 100.10000000000001, 77.18882142857149, 590.3128571428515], [99.59999999999998, 100.10000000000001, 78.55219642857142, 590.3128571428515], [100.09999999999995, 100.10000000000001, 85.81853571428535, 590.3128571428515], [99.99999999999996, 100.10000000000001, 84.305339285714, 590.3128571428517], [100.19999999999995, 100.10000000000001, 87.36169642857098, 590.3128571428518], [99.89999999999996, 100.10000000000001, 82.82210714285694, 590.312857142852], [100.29999999999994, 100.10000000000001, 88.9348214285709, 590.312857142852], [99.69999999999997, 100.10000000000001, 79.94553571428565, 590.3128571428521], [99.79999999999997, 100.10000000000001, 81.36883928571416, 590.3128571428521]]\n"
     ]
    }
   ],
   "source": [
    "def getKandB(prePoint,num):\n",
    "    num1=num[0]\n",
    "    num2=num[1]\n",
    "    distance1,distance2=0,0\n",
    "    while distance1-distance2==0:\n",
    "        i=1\n",
    "        num2=num[i]\n",
    "        distance1=getDistance(prePoint,num1)\n",
    "        distance2=getDistance(prePoint,num2)\n",
    "        i+=1\n",
    "    K=(num1[2]-num2[2])/(distance1-distance2)\n",
    "    B=num1[2]-K*distance1\n",
    "    return [K,B]\n",
    "\n",
    "def setValue(prePoint,points,kAndB):\n",
    "    if len(prePoint)<3:\n",
    "        prePoint.append(kAndB[1])\n",
    "    else:\n",
    "        prePoint[2]=kAndB[1]\n",
    "    res=0\n",
    "    for point in points:\n",
    "        res+=kAndB[0]*getDistance(prePoint,point)+kAndB[1]\n",
    "    if len(prePoint)<4:\n",
    "        prePoint.append(res)\n",
    "    else:\n",
    "        prePoint[3]=res\n",
    "        \n",
    "def predict1(num):\n",
    "    num.sort(key=lambda k:k[2],reverse=True)\n",
    "    prePoints=createRegion([99.8,99.8],4,0.1)\n",
    "    for prePoint in prePoints:\n",
    "        K=getKandB(prePoint,num)\n",
    "        setValue(prePoint,num,K)\n",
    "    prePoints.sort(key=lambda k:k[3])\n",
    "    return prePoints\n",
    "\n",
    "print(predict1(num))"
   ]
  }
 ],
 "metadata": {
  "anaconda-cloud": {},
  "kernelspec": {
   "display_name": "Python 3",
   "language": "python",
   "name": "python3"
  },
  "language_info": {
   "codemirror_mode": {
    "name": "ipython",
    "version": 3
   },
   "file_extension": ".py",
   "mimetype": "text/x-python",
   "name": "python",
   "nbconvert_exporter": "python",
   "pygments_lexer": "ipython3",
   "version": "3.7.1rc2"
  }
 },
 "nbformat": 4,
 "nbformat_minor": 1
}
