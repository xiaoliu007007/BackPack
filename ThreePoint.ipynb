{
 "cells": [
  {
   "cell_type": "code",
   "execution_count": 1,
   "metadata": {
    "scrolled": true
   },
   "outputs": [],
   "source": [
    "import numpy as np\n",
    "import matplotlib.pyplot as plt\n",
    "from sklearn import datasets"
   ]
  },
  {
   "cell_type": "code",
   "execution_count": 2,
   "metadata": {
    "scrolled": true
   },
   "outputs": [
    {
     "name": "stdout",
     "output_type": "stream",
     "text": [
      "[[95.0, 95.0, 22.89], [95.0, 95.2, 23.918], [95.0, 95.4, 25.091], [95.0, 95.6, 26.020000000000003], [95.0, 95.80000000000001, 27.192999999999998], [95.0, 96.00000000000001, 28.435], [95.0, 96.20000000000002, 29.414], [95.0, 96.40000000000002, 30.573999999999998], [95.0, 96.60000000000002, 31.768], [95.0, 96.80000000000001, 32.976], [95.0, 97.00000000000004, 34.342], [95.0, 97.20000000000003, 35.677], [95.0, 97.40000000000003, 37.012], [95.0, 97.60000000000004, 38.314], [95.0, 97.80000000000004, 39.348], [95.0, 98.00000000000004, 40.387], [95.0, 98.20000000000003, 41.506], [95.0, 98.40000000000005, 42.544], [95.0, 98.60000000000005, 43.479], [95.0, 98.80000000000005, 44.318], [95.80000000000001, 99.00000000000006, 64.029], [95.80000000000001, 99.20000000000006, 65.217], [95.80000000000001, 99.40000000000005, 66.255], [95.80000000000001, 99.60000000000008, 66.532], [95.80000000000001, 99.80000000000007, 66.68], [95.80000000000001, 100.00000000000007, 66.49900000000001], [95.80000000000001, 100.20000000000007, 65.991], [95.80000000000001, 100.40000000000008, 65.194], [95.80000000000001, 100.60000000000008, 64.087], [95.80000000000001, 100.8000000000001, 62.677], [95.80000000000001, 101.00000000000009, 61.12799999999999], [95.80000000000001, 101.20000000000009, 59.413000000000004], [95.80000000000001, 101.40000000000009, 57.503], [95.80000000000001, 101.6000000000001, 55.458999999999996], [95.80000000000001, 101.8000000000001, 53.268], [95.80000000000001, 102.00000000000009, 51.203], [95.80000000000001, 102.2000000000001, 49.24], [95.80000000000001, 102.4000000000001, 46.78], [95.80000000000001, 102.60000000000011, 44.809], [95.80000000000001, 102.80000000000011, 42.602]]\n",
      "40\n"
     ]
    }
   ],
   "source": [
    "import os\n",
    "num=[]\n",
    "Z = []\n",
    "path = '/Users/liuyingjie/Downloads/data/threePoint1/'\n",
    "#path = '/Users/liuyingjie/Downloads/data/DBSCAN/'\n",
    "#path = '/Users/liuyingjie/Downloads/data/BP/'\n",
    "filenames = os.listdir(path)\n",
    "indexs = []\n",
    "for filename in filenames:\n",
    "    if filename.startswith(\".\"):\n",
    "        continue\n",
    "    indexs.append(int(filename))\n",
    "indexs.sort()\n",
    "#print(indexs)\n",
    "for index in indexs:\n",
    "    file_path = path + str(index)\n",
    "    with open(file_path,'r',encoding='utf8') as f:\n",
    "        lines=f.readlines()\n",
    "    #for i in range(99, 119):\n",
    "    for i in range(34, 54):\n",
    "        #print(lines[i])\n",
    "        temps = lines[i].split()\n",
    "        point=[]\n",
    "        #point.append(int(temps[2]))\n",
    "        point.append(float(temps[2])/100)\n",
    "        #point.append(int(temps[3]))\n",
    "        point.append(float(temps[3])/100)\n",
    "        num.append(point)\n",
    "    for line in lines:\n",
    "        temps = line.split()\n",
    "        size = len(temps)\n",
    "        if(size == 11 and temps[0]=='10000000'):\n",
    "            Z.append(int(float(temps[1])*37000000000))\n",
    "            Z.append(int(float(temps[6])*37000000000))\n",
    "        if(size == 16 and temps[0] == '10000000'):\n",
    "            Z.append(int(float(temps[1])*37000000000))\n",
    "            Z.append(int(float(temps[6])*37000000000))\n",
    "            Z.append(int(float(temps[11])*37000000000))\n",
    "        if(size == 11 and temps[0] == '1000000'):\n",
    "            #print(temps)\n",
    "            Z.append(float(temps[1])*100000000)\n",
    "            Z.append(float(temps[6])*100000000)\n",
    "        if(size == 16 and temps[0] == '1000000'):\n",
    "            #print(temps)\n",
    "            Z.append(float(temps[1])*100000000)\n",
    "            Z.append(float(temps[6])*100000000)\n",
    "            Z.append(float(temps[11])*100000000)\n",
    "            \n",
    "for i in range(len(Z)):\n",
    "    num[i].append(Z[i])\n",
    "print(num)\n",
    "#num=[[95.0, 96.20000000000002, 29.414], [95.0, 96.40000000000002, 30.573999999999998], [95.0, 96.60000000000002, 31.768], [95.0, 96.80000000000001, 32.976], [95.0, 97.00000000000004, 34.342], [95.0, 97.20000000000003, 35.677], [95.0, 97.40000000000003, 37.012], [95.0, 97.60000000000004, 38.314], [95.0, 97.80000000000004, 39.348], [95.0, 98.00000000000004, 40.387], [95.0, 98.20000000000003, 41.506], [95.0, 98.40000000000005, 42.544], [95.0, 98.60000000000005, 43.479], [95.0, 98.80000000000005, 44.318], [95.80000000000001, 99.00000000000006, 64.029], [95.80000000000001, 99.20000000000006, 65.217], [95.80000000000001, 99.40000000000005, 66.255], [95.80000000000001, 99.60000000000008, 66.532], [95.80000000000001, 99.80000000000007, 66.68], [95.80000000000001, 100.00000000000007, 66.49900000000001], [95.80000000000001, 100.20000000000007, 65.991], [95.80000000000001, 100.40000000000008, 65.194]]\n",
    "print(len(num))"
   ]
  },
  {
   "cell_type": "code",
   "execution_count": 3,
   "metadata": {},
   "outputs": [
    {
     "name": "stdout",
     "output_type": "stream",
     "text": [
      "40\n",
      "441\n",
      "441\n",
      "441\n",
      "[99.79999999999995, 99.80000000000007]\n"
     ]
    }
   ],
   "source": [
    "def getDistance(num1,num2):\n",
    "    return pow(abs(num1[0]-num2[0]),2)+pow(abs(num1[1]-num2[1]),2)\n",
    "\n",
    "def setDiffValueOnPrePoint(prePoint,points):\n",
    "    ans=0\n",
    "    for point in points:\n",
    "        distance=getDistance(prePoint,point)\n",
    "        if distance!=0:\n",
    "            ans+=abs(point[2]-(prePoint[2]/distance))*(1-distance**0.5*0.0005)\n",
    "        else:\n",
    "            ans+=abs(point[2]-prePoint[2])\n",
    "    if len(prePoint)<4:\n",
    "        prePoint.append(ans)\n",
    "    else:\n",
    "        prePoint[3]=ans\n",
    "\n",
    "def setValueOnPrePoint(prePoint,point): #放置辐射值数据\n",
    "    res=point[2]*getDistance(prePoint,point)/(1-getDistance(prePoint,point)**0.5*0.0005)\n",
    "    if len(prePoint)<3:\n",
    "        prePoint.append(res)\n",
    "    else:\n",
    "        prePoint[2]=res\n",
    "\n",
    "def createRegion(point,extendTimes,interval):\n",
    "    pointStart=[point[0]-extendTimes*interval,point[1]+extendTimes*interval]\n",
    "    pointEnd=[point[0]+extendTimes*interval,point[1]-extendTimes*interval]\n",
    "    #print(pointStart,pointEnd)\n",
    "    ans=[]\n",
    "    pointY,pointX=pointStart[1],pointStart[0]\n",
    "    while pointY>=pointEnd[1]:\n",
    "        pointX=pointStart[0]\n",
    "        while pointX<=pointEnd[0]:\n",
    "            res=[pointX,pointY]\n",
    "            ans.append(res)\n",
    "            pointX+=interval\n",
    "        pointY-=interval\n",
    "    #print(ans)\n",
    "    print(len(ans))\n",
    "    return ans\n",
    "\n",
    "def predictForWhile(midPoint,interval,num):\n",
    "    prePoints=createRegion(midPoint,10,interval)\n",
    "    \"\"\"\n",
    "    pointStart=prePoints[0]\n",
    "    pointEnd=prePoints[len(prePoints)-1]\n",
    "    \"\"\"\n",
    "    for prePoint in prePoints:\n",
    "        setValueOnPrePoint(prePoint,num[0])\n",
    "        setDiffValueOnPrePoint(prePoint,num)\n",
    "    #print(prePoints)\n",
    "    prePoints.sort(key=lambda k:k[3])\n",
    "    \"\"\"\n",
    "    if prePoints[0][0]==pointStart[0]:\n",
    "        midPoint[0]-=interval*4\n",
    "        return predictForWhile(midPoint,interval,num)\n",
    "    if prePoints[0][1]==pointStart[1]:\n",
    "        midPoint[1]+=interval*4\n",
    "        return predictForWhile(midPoint,interval,num)\n",
    "    if prePoints[0][0]==pointEnd[0]:\n",
    "        midPoint[0]+=interval*4\n",
    "        return predictForWhile(midPoint,interval,num)\n",
    "    if prePoints[0][0]==pointEnd[1]:\n",
    "        midPoint[1]-=interval*4\n",
    "        return predictForWhile(midPoint,interval,num)\n",
    "    \"\"\"\n",
    "    return prePoints\n",
    "\n",
    "def predict1(num):\n",
    "    num.sort(key=lambda k:k[2])\n",
    "    prePoints=createRegion([99.8,99.8],10,0.1)\n",
    "    for prePoint in prePoints:\n",
    "        setValueOnPrePoint(prePoint,num[0])\n",
    "        setDiffValueOnPrePoint(prePoint,num)\n",
    "    prePoints.sort(key=lambda k:k[3])\n",
    "    return prePoints[0]\n",
    "\n",
    "def predict(num,midPoint):\n",
    "    num.sort(key=lambda k:k[2])\n",
    "    prePoints=predictForWhile(midPoint,10,num)\n",
    "    #prePoints=predictForWhile(prePoints[0],10,num)\n",
    "    prePoints=predictForWhile(prePoints[0],1,num)\n",
    "    prePoints=predictForWhile(prePoints[0],0.1,num)\n",
    "    return prePoints[0]\n",
    "\n",
    "print(len(num))\n",
    "ans=predict(num,[90,90]) \n",
    "print(ans[:2])"
   ]
  },
  {
   "cell_type": "code",
   "execution_count": 5,
   "metadata": {
    "scrolled": true
   },
   "outputs": [
    {
     "name": "stdout",
     "output_type": "stream",
     "text": [
      "[15.999999999999886, 16.039999999999853, 16.039999999999917, 16.159999999999844, 16.159999999999947, 16.35999999999981, 16.35999999999998, 16.63999999999979, 16.64000000000002, 17.000000000000085, 17.440000000000097, 17.96000000000014, 18.560000000000187, 19.240000000000233, 20.000000000000284, 20.840000000000273, 21.760000000000392, 22.76000000000045, 23.840000000000508, 24.03999999999986, 24.479999999999844, 24.99999999999983, 25.00000000000057, 25.599999999999866, 26.27999999999981, 27.039999999999804, 27.8799999999998, 28.799999999999798, 29.799999999999798, 30.87999999999972, 32.03999999999989, 33.27999999999981, 34.599999999999824, 35.99999999999983, 37.47999999999985, 39.039999999999864, 40.68, 42.3999999999999, 44.19999999999992, 46.07999999999995] [66.68, 66.532, 66.49900000000001, 66.255, 65.991, 65.217, 65.194, 64.029, 64.087, 62.677, 61.12799999999999, 59.413000000000004, 57.503, 55.458999999999996, 53.268, 51.203, 49.24, 46.78, 44.809, 44.318, 43.479, 42.544, 42.602, 41.506, 40.387, 39.348, 38.314, 37.012, 35.677, 34.342, 32.976, 31.768, 30.573999999999998, 29.414, 28.435, 27.192999999999998, 26.020000000000003, 25.091, 23.918, 22.89]\n"
     ]
    },
    {
     "data": {
      "image/png": "[encoded data removed]",
      "text/plain": [
       "<Figure size 432x288 with 1 Axes>"
      ]
     },
     "metadata": {
      "needs_background": "light"
     },
     "output_type": "display_data"
    }
   ],
   "source": [
    "numPoints=[]\n",
    "for numPoint in num:\n",
    "    distance=getDistance([99.8,99.8],numPoint)\n",
    "    res=[distance,numPoint[2]]\n",
    "    numPoints.append(res)\n",
    "numPoints.sort(key=lambda k:k[0],reverse=False)\n",
    "X=[]\n",
    "Y=[]\n",
    "for numPoint in numPoints:\n",
    "    X.append(numPoint[0])\n",
    "    Y.append(numPoint[1])\n",
    "print(X,Y)\n",
    "plt.plot(X,Y,'g-')\n",
    "plt.show()"
   ]
  },
  {
   "cell_type": "code",
   "execution_count": 6,
   "metadata": {},
   "outputs": [
    {
     "name": "stdout",
     "output_type": "stream",
     "text": [
      "81\n",
      "[[100.19999999999995, 99.80000000000003, 138.3120000000426, 1190.1599999990628], [100.09999999999995, 99.80000000000003, 135.0930000000408, 1201.9999999990691], [99.99999999999996, 99.80000000000003, 131.94800000003906, 1213.839999999076], [99.89999999999996, 99.80000000000003, 128.87700000003736, 1225.6799999990828], [99.79999999999997, 99.80000000000003, 125.8800000000357, 1237.51999999909], [99.69999999999997, 99.80000000000003, 122.95700000003407, 1249.3599999990968], [99.59999999999998, 99.80000000000003, 120.10800000003248, 1261.1999999991037], [99.49999999999999, 99.80000000000003, 117.33300000003092, 1273.0399999991107], [99.39999999999999, 99.80000000000003, 114.63200000002941, 1284.8799999991177], [100.19999999999995, 99.90000000000002, 102.51450000001333, 1915.35999999969], [100.09999999999995, 99.90000000000002, 100.9050000000128, 1921.2799999996923], [99.99999999999996, 99.90000000000002, 99.33250000001229, 1927.199999999695], [99.89999999999996, 99.90000000000002, 97.79700000001176, 1933.1199999996966], [99.79999999999997, 99.90000000000002, 96.29850000001127, 1939.039999999699], [99.69999999999997, 99.90000000000002, 94.83700000001078, 1944.9599999997006], [99.59999999999998, 99.90000000000002, 93.4125000000103, 1950.8799999997032], [99.49999999999999, 99.90000000000002, 92.02500000000984, 1956.7999999997057], [99.39999999999999, 99.90000000000002, 90.67450000000937, 1962.7199999997072], [100.19999999999995, 100.00000000000001, 90.60666666667379, 2157.093333333161], [100.09999999999995, 100.00000000000001, 89.53366666667351, 2161.039999999829], [99.99999999999996, 100.00000000000001, 88.48533333333991, 2164.986666666497], [99.89999999999996, 100.00000000000001, 87.46166666667298, 2168.933333333166], [99.79999999999997, 100.00000000000001, 86.46266666667272, 2172.879999999832], [99.69999999999997, 100.00000000000001, 85.48833333333913, 2176.8266666665], [99.59999999999998, 100.00000000000001, 84.53866666667221, 2180.773333333169], [99.49999999999999, 100.00000000000001, 83.61366666667197, 2184.7199999998356], [99.39999999999999, 100.00000000000001, 82.7133333333384, 2188.6666666665037], [100.19999999999995, 100.10000000000001, 84.67125000000468, 2277.9599999998827], [100.09999999999995, 100.10000000000001, 83.8665000000045, 2280.9199999998846], [99.99999999999996, 100.10000000000001, 83.08025000000433, 2283.8799999998855], [99.89999999999996, 100.10000000000001, 82.31250000000416, 2286.8399999998865], [99.79999999999997, 100.10000000000001, 81.56325000000399, 2289.7999999998874], [99.69999999999997, 100.10000000000001, 80.83250000000382, 2292.759999999887], [99.59999999999998, 100.10000000000001, 80.12025000000367, 2295.7199999998884], [99.49999999999999, 100.10000000000001, 79.42650000000351, 2298.679999999889], [99.39999999999999, 100.10000000000001, 78.75125000000335, 2301.6399999998894], [100.19999999999995, 100.2, 81.12480000000343, 2350.4799999999127], [100.09999999999995, 100.2, 80.48100000000329, 2352.8479999999126], [99.99999999999996, 100.2, 79.85200000000317, 2355.2159999999144], [99.89999999999996, 100.2, 79.23780000000305, 2357.583999999915], [99.79999999999997, 100.2, 78.63840000000293, 2359.951999999915], [99.69999999999997, 100.2, 78.05380000000281, 2362.319999999915], [99.59999999999998, 100.2, 77.4840000000027, 2364.687999999916], [99.49999999999999, 100.2, 76.92900000000259, 2367.055999999917], [99.39999999999999, 100.2, 76.38880000000248, 2369.423999999917], [99.39999999999999, 99.40000000000005, 50.49866666666607, 3092.4533333333616], [99.49999999999999, 99.40000000000005, 49.598333333332754, 3096.4000000000283], [99.59999999999998, 99.40000000000005, 48.673333333332764, 3100.346666666694], [99.69999999999997, 99.40000000000005, 47.72366666666612, 3104.2933333333626], [99.79999999999997, 99.40000000000005, 46.749333333332515, 3108.2400000000343], [99.89999999999996, 99.40000000000005, 45.75033333333252, 3112.1866666667015], [99.99999999999996, 99.40000000000005, 44.726666666665864, 3116.133333333369], [100.09999999999995, 99.40000000000005, 43.67833333333254, 3120.0800000000345], [100.19999999999995, 99.40000000000005, 42.60533333333255, 3124.0266666667026], [99.39999999999999, 99.50000000000004, 42.53750000000126, 3318.399999999985], [99.49999999999999, 99.50000000000004, 41.1870000000014, 3324.319999999984], [99.59999999999998, 99.50000000000004, 39.799500000001544, 3330.2399999999825], [99.69999999999997, 99.50000000000004, 38.3750000000017, 3336.1599999999835], [99.79999999999997, 99.50000000000004, 36.91350000000054, 3342.080000000012], [99.89999999999996, 99.50000000000004, 35.41500000000063, 3348.0000000000127], [99.99999999999996, 99.50000000000004, 33.87950000000074, 3353.9200000000124], [100.09999999999995, 99.50000000000004, 32.30700000000085, 3359.8400000000124], [100.19999999999995, 99.50000000000004, 30.697500000000957, 3365.7600000000116], [99.39999999999999, 99.60000000000004, 18.580000000013186, 3996.2399999996724], [99.49999999999999, 99.60000000000004, 15.879000000014067, 4008.0799999996675], [99.59999999999998, 99.60000000000004, 13.104000000014977, 4019.9199999996636], [99.69999999999997, 99.60000000000004, 10.255000000015919, 4031.759999999661], [99.79999999999997, 99.60000000000004, 7.33200000001689, 4043.5999999996566], [99.89999999999996, 99.60000000000004, 4.335000000017878, 4055.439999999655], [99.99999999999996, 99.60000000000004, 1.2640000000189104, 4067.2799999996496], [100.09999999999995, 99.60000000000004, -1.8809999999800482, 4079.119999999646], [100.19999999999995, 99.60000000000004, -5.099999999978962, 4090.959999999643], [99.79999999999997, 99.70000000000003, -133389865563212.9, 3159365210595881.0], [99.89999999999996, 99.70000000000003, -140138509604827.61, 3186026520389915.5], [99.99999999999996, 99.70000000000003, -147053786832655.0, 3212687830183949.0], [100.09999999999995, 99.70000000000003, -154135697246695.1, 3239349139977984.5], [100.19999999999995, 99.70000000000003, -161384240846947.9, 3266010449772017.5], [99.39999999999999, 99.70000000000003, -120068468065430.86, 3391911079354976.0], [99.49999999999999, 99.70000000000003, -126826369506279.62, 3421534756903903.5], [99.59999999999998, 99.70000000000003, -133769418931809.19, 3451158434452829.0], [99.69999999999997, 99.70000000000003, -140897616342019.5, 3480782112001756.0]]\n"
     ]
    }
   ],
   "source": [
    "def getKandB(prePoint,num):\n",
    "    num1=num[0]\n",
    "    num2=num[1]\n",
    "    distance1,distance2=0,0\n",
    "    while distance1-distance2==0:\n",
    "        i=1\n",
    "        num2=num[i]\n",
    "        distance1=getDistance(prePoint,num1)\n",
    "        distance2=getDistance(prePoint,num2)\n",
    "        i+=1\n",
    "    K=(num1[2]-num2[2])/(distance1-distance2)\n",
    "    B=num1[2]-K*distance1\n",
    "    return [K,B]\n",
    "\n",
    "def setValue(prePoint,points,kAndB):\n",
    "    if len(prePoint)<3:\n",
    "        prePoint.append(kAndB[1])\n",
    "    else:\n",
    "        prePoint[2]=kAndB[1]\n",
    "    res=0\n",
    "    for point in points:\n",
    "        res+=kAndB[0]*getDistance(prePoint,point)+kAndB[1]\n",
    "    if len(prePoint)<4:\n",
    "        prePoint.append(res)\n",
    "    else:\n",
    "        prePoint[3]=res\n",
    "        \n",
    "def predict1(num):\n",
    "    num.sort(key=lambda k:k[2],reverse=True)\n",
    "    prePoints=createRegion([99.8,99.8],4,0.1)\n",
    "    for prePoint in prePoints:\n",
    "        K=getKandB(prePoint,num)\n",
    "        setValue(prePoint,num,K)\n",
    "    prePoints.sort(key=lambda k:k[3])\n",
    "    return prePoints\n",
    "\n",
    "print(predict1(num))"
   ]
  }
 ],
 "metadata": {
  "anaconda-cloud": {},
  "kernelspec": {
   "display_name": "Python 3",
   "language": "python",
   "name": "python3"
  },
  "language_info": {
   "codemirror_mode": {
    "name": "ipython",
    "version": 3
   },
   "file_extension": ".py",
   "mimetype": "text/x-python",
   "name": "python",
   "nbconvert_exporter": "python",
   "pygments_lexer": "ipython3",
   "version": "3.7.1rc2"
  }
 },
 "nbformat": 4,
 "nbformat_minor": 1
}
