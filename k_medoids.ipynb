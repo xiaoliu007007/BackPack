{
 "cells": [
  {
   "cell_type": "code",
   "execution_count": 1,
   "metadata": {
    "scrolled": true
   },
   "outputs": [],
   "source": [
    "import numpy as np\n",
    "import matplotlib.pyplot as plt\n",
    "from sklearn import datasets"
   ]
  },
  {
   "cell_type": "code",
   "execution_count": 27,
   "metadata": {},
   "outputs": [],
   "source": [
    "import os\n",
    "num=[]\n",
    "Z = []\n",
    "path = '/Users/liuyingjie/Downloads/data/DBSCAN/'\n",
    "filenames = os.listdir(path)\n",
    "indexs = []\n",
    "for filename in filenames:\n",
    "    if filename.startswith(\".\"):\n",
    "        continue\n",
    "    indexs.append(int(filename))\n",
    "indexs.sort()\n",
    "#print(indexs)\n",
    "for index in indexs:\n",
    "    file_path = path + str(index)\n",
    "    with open(file_path,'r',encoding='utf8') as f:\n",
    "        lines=f.readlines()\n",
    "    for i in range(99, 119):\n",
    "        temps = lines[i].split()\n",
    "        point=[]\n",
    "        point.append(int(temps[2]))\n",
    "        point.append(int(temps[3]))\n",
    "        num.append(point)\n",
    "    for line in lines:\n",
    "        temps = line.split()\n",
    "        size = len(temps)\n",
    "        if(size == 11 and temps[0]=='10000000'):\n",
    "            Z.append(int(float(temps[1])*37000000000))\n",
    "            Z.append(int(float(temps[6])*37000000000))\n",
    "        if(size == 16 and temps[0] == '10000000'):\n",
    "            Z.append(int(float(temps[1])*37000000000))\n",
    "            Z.append(int(float(temps[6])*37000000000))\n",
    "            Z.append(int(float(temps[11])*37000000000))\n",
    "            \n",
    "for i in range(len(Z)):\n",
    "    num[i].append(Z[i])\n",
    "#print(num)"
   ]
  },
  {
   "cell_type": "code",
   "execution_count": 28,
   "metadata": {},
   "outputs": [
    {
     "name": "stdout",
     "output_type": "stream",
     "text": [
      "[100.0, 100.0, 100.02380952380953, 99.95454545454545, 100.0, 100.0, 100.16666666666667, 97.5, 100.0, 100.5, 100.0, 100.0, 100.0, 100.5, 99.88461538461539, 99.73809523809524, 100.5, 101.5, 100.15, 101.0, 100.78571428571428, 100.22, 98.5, 100.0, 101.16666666666666, 100.29166666666667, 100.5, 100.5, 100.0, 101.0, 101.0, 100.0, 98.5, 98.5, 100.0, 100.0, 99.5, 99.5, 103.0, 100.5, 99.72727272727272, 100.0, 101.83333333333333, 101.0, 99.73809523809524, 100.5, 101.5, 100.0, 101.5, 99.60526315789474, 101.5, 99.7, 99.5, 99.5, 100.5, 100.0, 100.0, 100.5, 100.0, 101.0, 100.0, 100.5, 101.0, 100.5, 100.0, 101.5, 100.0, 101.5, 99.5, 99.95454545454545, 100.0, 100.0, 100.5, 98.5, 99.85, 100.05555555555556, 100.01851851851852, 100.0, 100.5, 100.5, 100.5, 100.0, 100.1153846153846, 100.375, 100.0, 99.97368421052632, 99.5, 100.0, 100.0, 100.22, 100.78571428571428, 98.5, 100.5, 99.0, 100.5, 99.5, 100.5, 98.5, 99.0, 99.5, 100.5, 101.0, 100.0, 101.0, 101.5, 100.5, 100.0, 99.875, 102.5, 101.5, 100.0, 100.25, 102.0, 100.0, 100.57142857142857, 100.0, 100.0, 100.0, 101.0, 101.0, 101.5, 101.5, 100.5, 100.5, 100.03571428571428, 102.5, 102.5, 101.5, 101.5, 99.875, 102.0, 102.0, 99.63636363636363, 100.0, 100.13157894736841, 101.5, 100.41666666666667, 100.0, 100.0, 100.02631578947368, 100.0, 100.0, 100.0, 100.5, 100.0, 100.01851851851852, 100.0, 99.85, 100.0, 100.0, 100.5, 99.5, 100.0, 100.0, 100.375, 100.05555555555556, 100.5, 100.0, 98.5, 100.0, 100.0, 100.5, 99.97368421052632, 100.5, 100.1153846153846, 98.5, 100.75, 98.5, 100.0, 100.0, 99.5, 100.5, 100.0, 99.875, 100.25, 100.0, 100.0, 101.0, 100.0, 99.5, 100.5, 102.5, 100.0, 99.5, 100.5, 100.11904761904762, 100.0, 99.5, 100.5, 100.0, 100.03571428571429, 99.875, 100.41666666666667, 100.0, 101.0, 101.75, 100.5, 101.5, 101.5, 101.5, 101.0, 100.14999999999999, 100.5, 101.5, 100.75, 100.05555555555556, 101.5, 102.5, 100.5, 100.13157894736842, 99.91176470588235, 100.0, 102.0, 100.83333333333334, 98.5, 101.0, 101.0, 100.5, 101.5, 100.0, 100.5, 101.5, 101.5, 102.5, 100.0, 101.5, 102.5, 102.0, 100.0, 100.0, 102.0, 100.5952380952381, 100.0, 100.0, 100.02631578947368, 100.0, 99.94444444444444, 100.0, 100.0, 100.0, 100.01851851851852, 100.0, 99.5, 100.5, 100.0, 99.98148148148148, 100.0, 100.0, 100.0, 100.05555555555556, 100.0, 99.97368421052632, 100.0, 100.0, 100.0, 99.63636363636364, 99.76470588235294, 104.0, 100.0, 100.0, 99.875, 100.0, 100.25, 100.0, 101.5, 100.0, 100.0, 100.0, 100.0, 100.0, 100.0, 101.5, 101.0, 100.0, 100.05555555555556, 100.5, 100.5, 99.5, 100.13157894736841, 100.83333333333334, 99.0, 100.14999999999999, 100.75, 100.04545454545455, 100.16666666666667, 100.0, 101.5, 101.0, 100.0, 99.83333333333333, 99.95454545454545, 100.5, 100.5, 99.5, 99.5, 99.88095238095238, 100.0, 99.0, 99.25, 99.85000000000001, 99.5, 99.5, 99.94444444444444, 98.5, 100.0, 99.16666666666666, 99.86842105263158, 101.5, 101.5, 101.0, 101.0, 100.0, 100.0, 100.0, 100.5, 100.5, 100.5, 100.5, 99.5, 99.5, 100.0, 100.0, 100.0, 99.0, 99.0, 100.0, 99.5, 99.5, 100.0, 98.5, 98.5, 100.0, 100.0, 100.0, 100.0, 100.0, 100.0, 99.94444444444444, 100.02631578947368, 100.0, 99.98148148148148, 100.5, 100.0, 100.0, 100.0, 100.0, 100.11538461538461, 100.19565217391305, 100.0, 98.5, 99.76315789473684, 100.0, 100.0, 100.0, 100.0, 100.0, 99.78571428571428, 99.5, 100.08823529411765, 100.0, 99.0, 99.5, 100.0, 99.93478260869566, 99.0, 99.5, 99.5, 101.5, 99.0, 99.0, 98.5, 102.5, 100.06521739130434, 100.0, 102.0, 102.5, 100.0, 99.91176470588236, 102.0, 102.5, 102.5, 100.21428571428572, 102.0, 102.0, 100.5, 100.0, 100.0, 100.83333333333334, 99.95454545454545, 100.0, 101.5, 100.0, 99.88095238095238, 100.0, 100.0, 100.05555555555556, 101.5, 100.0, 100.0, 100.13157894736842, 99.83333333333333, 101.5, 101.5, 99.5, 99.25, 100.5, 100.5, 100.0, 99.5, 99.5, 99.0, 98.5, 98.5, 98.5, 99.73076923076923, 101.75, 100.0, 99.64285714285714, 105.0, 100.0, 100.0, 99.72222222222221, 100.0, 99.82142857142857, 100.0, 100.0, 100.0, 100.0, 99.5, 100.26190476190476, 100.0, 100.0, 100.15714285714286, 98.5, 100.0, 99.93478260869564, 100.0, 99.91176470588235, 99.78571428571428, 100.0, 98.5, 100.0, 100.0, 100.0, 100.0, 100.0, 100.0, 100.0, 101.5, 100.0, 99.5, 100.21428571428572, 99.83333333333334, 102.5, 100.08823529411765, 100.0, 99.5, 100.06521739130436, 99.95454545454545, 102.5, 100.0, 99.5, 99.0, 102.5, 102.0, 100.5, 101.5, 101.5, 100.0, 101.0, 99.5, 100.5, 99.0, 101.5, 100.0, 101.0, 100.5, 99.5, 100.5, 100.0, 99.0, 98.5, 99.5, 99.5, 99.5, 100.0, 99.75, 99.0, 100.0, 99.73076923076923, 99.725, 99.125, 97.25, 99.75, 100.0, 100.0, 100.0, 99.72222222222221, 99.5, 99.63333333333334, 100.14285714285714, 100.0, 100.17857142857143, 100.26190476190476, 99.5, 100.0, 100.11538461538461, 100.15714285714286, 100.27777777777779, 99.78571428571428, 100.0, 100.0, 100.0, 100.21428571428572, 100.0, 99.89024390243901, 100.0, 100.0, 104.5, 100.0, 100.0, 100.0, 100.0, 99.79166666666666, 99.375, 100.0, 99.6875, 100.0, 100.0, 100.0, 100.0, 99.78571428571428, 98.5, 100.08823529411765, 100.06521739130436, 100.0, 100.0, 100.0, 100.0, 100.0, 99.5, 99.9, 100.0, 100.0, 100.0, 97.5, 99.5, 97.5, 99.5, 100.0, 100.5, 102.5, 100.5, 102.5, 100.0, 100.0, 100.0, 100.0, 100.0, 100.0, 99.5, 98.5, 99.0, 101.5, 100.5, 101.0, 100.0, 100.5, 99.5, 100.0, 99.5, 98.5, 99.0, 99.0, 97.5, 101.5, 100.5, 101.0, 95.0, 87.5, 100.0, 100.5, 98.25, 94.5, 99.5, 99.125, 97.25, 99.0, 96.5, 100.0, 100.0, 99.5, 99.5, 98.5, 98.5, 99.0, 99.0, 99.5, 101.5, 101.5, 100.5, 100.5, 101.0, 101.0, 97.5, 100.0, 100.0, 100.0, 100.0, 100.5, 100.5, 100.5, 100.5, 99.5, 99.9375, 99.72222222222223, 100.0, 99.76086956521739, 101.1, 99.5, 99.5, 99.5, 99.5, 99.5, 99.75, 99.94444444444444, 99.77272727272727, 100.0, 100.0, 99.78, 100.0625, 101.83333333333333, 100.5, 101.07142857142857, 99.83333333333334, 99.97058823529412, 99.8, 100.0, 100.0, 99.79166666666666, 100.02941176470588, 101.25, 100.16666666666666, 100.6, 100.0, 99.78571428571428, 100.0, 100.21428571428572, 100.0, 100.0, 100.0, 100.0, 99.89024390243901, 104.5, 100.0, 100.0, 99.6875, 100.0, 99.79166666666666, 100.0, 100.0, 100.0, 99.375, 100.3125, 100.0, 100.0, 104.5, 100.34615384615384, 100.0, 99.95454545454545, 100.0, 99.9, 100.0, 102.5, 99.5, 99.5, 101.5, 99.66216216216216, 99.5, 99.0, 99.64285714285715, 99.68181818181817, 99.72222222222221, 99.71052631578948, 99.5, 99.5, 99.5, 101.5, 97.5, 101.0, 99.83333333333333, 101.5, 101.5, 101.0, 100.0, 101.0, 99.0, 99.16666666666667, 98.5, 99.75, 100.0, 97.5, 98.0, 99.0, 99.0, 99.0, 98.5, 100.0, 100.35714285714286, 97.5, 98.0, 98.5, 98.5, 97.5, 98.0, 97.5, 98.0, 99.5, 100.5, 99.9375, 100.0, 99.5, 100.0, 99.83333333333334, 100.0, 100.0, 99.5, 99.75, 99.97058823529412, 100.0, 99.0, 99.5, 100.0, 99.86842105263158, 99.94444444444444, 100.0, 100.0, 98.5, 100.5, 100.0, 100.05555555555556, 99.5, 100.0, 100.5, 100.5, 100.25, 99.5, 100.0, 99.5, 100.0, 100.0, 100.02941176470588, 99.0, 99.5, 100.0, 100.0, 100.0, 100.16666666666667, 100.0625, 98.5, 100.16666666666666, 99.0, 99.5, 99.0, 99.5, 102.5, 100.5, 98.5, 98.5, 100.0, 100.0, 100.0, 100.0, 99.375, 99.6875, 100.0, 100.0, 99.79166666666666, 100.0, 100.0, 99.5, 99.64285714285714, 100.0, 99.83333333333333, 99.75, 99.9375, 99.97058823529413, 100.0, 100.0, 100.0, 100.0, 99.5, 101.5, 101.0, 99.0, 98.5, 100.5, 97.5, 99.16666666666666, 99.5, 99.83333333333334, 100.0, 99.75, 99.5, 101.5, 101.0, 100.0, 100.5, 99.0, 98.5, 100.0, 98.0, 100.5, 100.0, 100.0, 100.0, 99.5, 100.0, 99.5, 101.5, 101.0, 100.13157894736841, 100.5, 99.0, 98.5, 100.35714285714286, 98.0, 100.5, 100.05555555555556, 100.0, 100.02941176470588, 99.5, 100.0625, 99.5, 101.5, 101.0, 100.5, 99.0, 98.5, 98.0, 100.5, 100.0, 99.5, 99.5, 99.0, 98.5, 99.6875, 100.0, 100.0, 100.5, 105.5, 100.0, 100.0, 100.0, 100.5, 105.5, 97.5, 99.5, 99.0, 100.5, 100.5, 100.5, 105.5, 105.5, 105.5, 100.0, 99.5, 101.5, 100.0, 97.5, 99.5, 99.0, 97.5, 99.5, 99.0, 100.0, 100.0, 100.0, 100.0, 100.0, 99.5, 99.0, 101.5, 101.0, 100.5, 100.0, 99.5, 99.0, 101.5, 101.0, 100.5]\n",
      "[106.0, 99.75, 99.92857142857143, 99.4090909090909, 100.0, 99.5, 102.5, 94.5, 104.5, 102.5, 100.5, 103.0, 97.5, 105.5, 99.34615384615384, 101.69047619047619, 98.5, 94.5, 99.9, 96.5, 95.92857142857143, 101.02, 116.5, 97.5, 95.16666666666667, 102.16666666666667, 97.5, 102.0, 99.0, 96.0, 105.0, 100.25, 108.5, 95.0, 101.0, 101.25, 103.5, 99.0, 113.0, 103.0, 99.9090909090909, 101.0, 109.5, 105.75, 100.07142857142857, 103.5, 108.5, 104.0, 108.5, 98.07894736842105, 108.5, 99.5, 95.5, 101.5, 100.5, 98.0, 98.0, 94.5, 98.0, 104.5, 98.5, 101.5, 92.5, 95.5, 96.5, 108.5, 98.0, 90.5, 99.5, 100.4090909090909, 100.75, 101.0, 103.5, 95.5, 100.9, 98.61111111111111, 98.20370370370371, 98.5, 101.5, 97.0, 96.5, 100.0, 100.34615384615384, 97.75, 98.25, 98.07894736842105, 99.5, 98.5, 101.25, 102.02, 96.92857142857143, 117.5, 99.5, 113.0, 101.5, 109.5, 102.5, 91.5, 93.5, 96.5, 101.5, 104.0, 99.0, 105.5, 108.5, 102.5, 99.5, 98.75, 117.5, 109.5, 97.5, 99.5, 113.0, 95.0, 100.14285714285714, 99.0, 99.0, 99.0, 93.5, 102.5, 90.5, 104.16666666666667, 96.5, 100.83333333333333, 99.28571428571429, 87.5, 108.5, 91.5, 104.5, 98.0, 89.0, 106.33333333333333, 96.0909090909091, 99.0, 98.34210526315789, 104.5, 102.33333333333333, 102.0, 102.0, 99.07894736842105, 99.25, 99.25, 99.0, 100.5, 99.25, 99.20370370370371, 99.5, 101.9, 99.5, 99.25, 98.0, 100.5, 101.0, 99.5, 98.75, 99.61111111111111, 104.5, 99.0, 96.5, 99.5, 102.5, 102.5, 99.07894736842105, 97.5, 101.34615384615384, 92.5, 101.5, 95.5, 100.0, 100.0, 97.5, 102.5, 100.0, 99.75, 100.5, 100.5, 98.5, 106.5, 100.0, 98.5, 101.5, 107.5, 100.0, 103.5, 96.5, 99.16666666666667, 100.0, 97.0, 100.5, 98.75, 100.28571428571429, 99.0, 103.33333333333333, 100.0, 103.5, 106.0, 101.83333333333333, 105.5, 105.5, 105.5, 94.5, 99.6, 97.5, 91.5, 96.0, 98.27777777777777, 92.5, 88.5, 96.5, 99.34210526315789, 96.26470588235294, 97.5, 90.0, 95.83333333333333, 100.5, 103.0, 95.0, 101.0, 105.0, 99.0, 97.0, 93.0, 105.5, 110.5, 98.0, 93.5, 90.5, 107.75, 98.75, 96.75, 91.75, 95.26190476190476, 103.0, 100.25, 100.07894736842105, 100.25, 100.61111111111111, 100.5, 100.25, 100.5, 100.20370370370371, 100.5, 101.5, 101.5, 100.25, 100.20370370370371, 100.0, 100.0, 100.0, 100.61111111111111, 100.5, 100.07894736842105, 100.0, 99.66666666666667, 97.0, 98.0909090909091, 99.11764705882354, 109.0, 97.0, 101.0, 100.0, 101.0, 101.5, 101.0, 106.5, 99.5, 101.0, 101.5, 99.5, 98.5, 98.5, 93.5, 95.5, 99.5, 99.27777777777777, 97.5, 98.5, 103.5, 100.34210526315789, 96.83333333333333, 107.5, 100.6, 97.0, 99.13636363636364, 98.16666666666667, 98.5, 111.5, 107.5, 99.5, 98.16666666666667, 99.13636363636364, 103.5, 104.5, 97.5, 97.5, 100.16666666666667, 101.0, 95.5, 97.0, 100.6, 98.5, 97.5, 99.27777777777777, 93.5, 98.5, 96.83333333333333, 100.34210526315789, 106.5, 94.5, 104.0, 96.0, 99.0, 99.0, 99.0, 101.5, 97.5, 102.0, 98.0, 97.5, 101.5, 99.75, 99.75, 99.75, 96.0, 104.0, 100.0, 98.0, 102.0, 99.0, 94.5, 106.5, 99.75, 99.0, 101.5, 101.5, 101.25, 101.5, 101.61111111111111, 101.07894736842105, 101.5, 101.20370370370371, 102.5, 101.0, 101.0, 98.75, 101.0, 99.73076923076923, 100.41304347826087, 101.0, 96.5, 98.39473684210526, 99.5, 98.75, 98.0, 98.0, 98.75, 99.92857142857143, 101.5, 98.26470588235294, 98.75, 104.25, 102.5, 98.0, 98.58695652173913, 107.0, 96.5, 97.5, 102.5, 95.0, 96.25, 102.5, 92.5, 98.58695652173913, 98.75, 93.75, 90.5, 98.0, 98.26470588235294, 92.0, 120.5, 112.5, 99.92857142857143, 116.0, 109.75, 98.5, 99.5, 99.5, 97.83333333333333, 100.13636363636364, 100.0, 95.5, 99.5, 101.16666666666667, 100.75, 100.5, 100.27777777777777, 94.5, 99.5, 102.0, 101.34210526315789, 99.16666666666667, 112.5, 107.5, 98.5, 98.0, 105.5, 103.0, 100.75, 99.0, 97.5, 96.0, 94.83333333333333, 105.5, 90.5, 98.11538461538461, 103.5, 96.5, 97.5, 110.0, 95.0, 100.0, 98.05555555555556, 100.0, 99.64285714285714, 100.0, 102.5, 97.5, 100.0, 103.5, 101.97619047619048, 102.5, 99.75, 99.98571428571428, 97.5, 100.5, 99.58695652173913, 100.5, 99.26470588235294, 100.92857142857143, 100.5, 103.5, 99.0, 99.0, 99.0, 99.75, 100.5, 99.75, 101.0, 103.5, 99.75, 98.5, 100.92857142857143, 100.16666666666667, 113.5, 99.26470588235294, 99.75, 102.5, 99.58695652173913, 101.13636363636364, 93.5, 99.0, 97.5, 96.0, 121.5, 117.0, 103.5, 112.5, 113.5, 101.5, 109.5, 99.5, 106.5, 97.5, 104.83333333333333, 99.33333333333333, 103.0, 101.16666666666667, 98.16666666666667, 101.5, 99.83333333333333, 97.0, 95.83333333333333, 98.5, 101.5, 100.5, 100.0, 99.25, 103.0, 99.83333333333333, 99.11538461538461, 99.1, 102.75, 109.0, 99.0, 101.0, 103.5, 98.0, 99.05555555555556, 97.5, 97.63333333333334, 100.71428571428571, 101.0, 100.64285714285714, 102.97619047619048, 104.5, 103.5, 100.1923076923077, 100.98571428571428, 99.05555555555556, 98.92857142857143, 98.5, 98.5, 100.0, 101.07142857142857, 98.5, 99.8170731707317, 100.75, 98.5, 107.5, 99.0, 99.0, 96.5, 99.0, 98.58333333333333, 102.75, 99.0, 97.125, 101.5, 101.5, 101.5, 101.5, 101.92857142857143, 104.5, 100.26470588235294, 100.58695652173913, 100.75, 100.0, 100.0, 100.0, 100.0, 98.5, 99.1, 99.5, 99.5, 99.5, 94.5, 98.5, 109.5, 101.5, 99.5, 101.5, 109.5, 98.5, 94.5, 100.33333333333333, 100.33333333333333, 100.83333333333333, 100.83333333333333, 101.0, 100.33333333333333, 99.16666666666667, 96.83333333333333, 98.0, 105.83333333333333, 102.16666666666667, 104.0, 100.83333333333333, 102.5, 99.5, 100.33333333333333, 102.16666666666667, 105.83333333333333, 104.0, 104.0, 109.5, 96.83333333333333, 99.16666666666667, 98.0, 112.0, 129.5, 100.83333333333333, 99.5, 105.5, 115.5, 102.5, 103.75, 110.0, 104.0, 111.5, 97.0, 98.25, 100.5, 100.5, 107.5, 105.0, 104.0, 102.75, 100.5, 92.5, 94.5, 95.5, 97.0, 94.0, 95.75, 104.5, 98.5, 99.0, 99.0, 100.375, 96.5, 97.5, 101.0, 101.75, 100.5, 98.75, 99.61111111111111, 99.0, 99.71739130434783, 103.4, 101.5, 101.0, 97.5, 99.25, 96.5, 100.0, 98.83333333333333, 99.86363636363636, 98.5, 99.0, 99.88, 98.75, 104.5, 100.5, 102.78571428571429, 99.83333333333333, 99.1470588235294, 100.0, 99.0, 99.25, 99.97916666666667, 99.1470588235294, 103.625, 99.83333333333333, 102.0, 99.5, 99.92857142857143, 99.5, 102.07142857142857, 99.5, 101.0, 101.75, 99.5, 100.8170731707317, 108.5, 100.0, 100.0, 98.125, 100.0, 99.58333333333333, 102.5, 100.0, 97.5, 103.75, 98.125, 97.5, 102.5, 93.5, 97.65384615384616, 100.25, 100.5909090909091, 100.25, 100.1, 100.5, 110.5, 99.5, 99.5, 106.83333333333333, 100.0945945945946, 99.5, 98.5, 99.78571428571429, 100.77272727272727, 101.05555555555556, 100.86842105263158, 99.5, 100.5, 97.0, 93.5, 105.5, 95.0, 98.5, 95.5, 106.0, 96.75, 99.25, 103.75, 103.5, 102.16666666666667, 107.5, 97.5, 95.5, 115.5, 111.5, 103.0, 96.0, 93.5, 105.5, 98.0, 96.21428571428571, 110.5, 108.0, 95.0, 92.5, 93.0, 94.0, 90.5, 91.5, 101.5, 97.5, 99.75, 99.5, 101.5, 99.5, 100.83333333333333, 100.5, 100.5, 101.5, 101.0, 100.1470588235294, 100.0, 105.0, 102.5, 100.5, 98.92105263157895, 99.83333333333333, 98.0, 99.5, 108.5, 98.5, 100.0, 99.83333333333333, 101.5, 100.0, 102.0, 102.5, 101.0, 98.0, 100.0, 96.5, 99.5, 100.25, 100.1470588235294, 103.75, 102.0, 100.5, 99.25, 100.0, 98.5, 99.75, 106.0, 100.83333333333333, 96.75, 98.5, 95.0, 97.5, 105.5, 101.5, 95.5, 93.5, 101.0, 101.0, 103.5, 101.0, 104.75, 99.125, 101.0, 98.5, 100.58333333333333, 103.5, 98.5, 97.5, 97.21428571428571, 101.5, 99.5, 98.5, 100.75, 101.1470588235294, 100.25, 99.0, 101.0, 101.25, 98.0, 107.0, 104.75, 97.0, 96.0, 103.0, 106.5, 103.16666666666667, 102.5, 101.83333333333333, 101.5, 102.0, 100.5, 94.5, 96.0, 99.0, 97.5, 104.5, 108.5, 96.5, 112.5, 98.5, 100.5, 100.5, 101.0, 103.5, 100.5, 101.5, 96.5, 97.75, 99.92105263157895, 99.0, 104.0, 106.5, 97.21428571428571, 109.0, 99.5, 100.83333333333333, 101.0, 101.1470588235294, 103.0, 100.75, 95.5, 109.5, 106.0, 102.5, 94.5, 93.5, 92.5, 103.5, 100.5, 97.5, 98.5, 96.0, 94.5, 96.375, 99.5, 103.0, 101.5, 86.5, 97.5, 97.5, 97.5, 98.5, 53.5, 125.5, 107.5, 112.0, 101.5, 103.5, 104.5, 61.5, 83.5, 79.5, 105.5, 109.5, 99.5, 97.5, 92.5, 96.5, 95.5, 117.5, 101.5, 105.5, 100.0, 100.0, 101.5, 102.0, 100.0, 98.5, 97.0, 110.5, 107.0, 104.5, 100.0, 103.5, 107.0, 95.5, 97.0, 99.5]\n"
     ]
    }
   ],
   "source": [
    "x1=[]\n",
    "x2=[]\n",
    "\n",
    "def getCircle(p1, p2, p3):\n",
    "    circle=[]\n",
    "    x21 = p2[0] - p1[0]\n",
    "    y21 = p2[1] - p1[1]\n",
    "    x32 = p3[0] - p2[0]\n",
    "    y32 = p3[1] - p2[1]\n",
    "    # three colinear\n",
    "    if (x21 * y32 - x32 * y21 == 0 or x21==0):\n",
    "        return None\n",
    "    xy21 = p2[0] * p2[0] - p1[0] * p1[0] + p2[1]* p2[1]- p1[1] * p1[1]\n",
    "    xy32 = p3[0] * p3[0] - p2[0] * p2[0] + p3[1] * p3[1] - p2[1] * p2[1]\n",
    "    y0 = (x32 * xy21 - x21 * xy32) / (2 * (y21 * x32 - y32 * x21))\n",
    "    x0 = (xy21 - 2 * y0 * y21) / (2.0 * x21)\n",
    "    circle.append(x0)\n",
    "    circle.append(y0)\n",
    "    return circle\n",
    "\n",
    "\n",
    "num.sort(key=lambda k:k[2],reverse=False)\n",
    "#print(num)\n",
    "res=[]\n",
    "#误差设计\n",
    "interval=370;\n",
    "for i in range(len(num)):\n",
    "    for j in range(i+1,len(num)):\n",
    "        if num[j][2]-num[i][2]>interval:\n",
    "            break\n",
    "        for n in range(j+1,len(num)):\n",
    "            if num[n][2]-num[i][2]>interval:\n",
    "                break\n",
    "            ans=getCircle(num[i],num[j],num[n])\n",
    "            if ans:\n",
    "                x1.append(ans[0])\n",
    "                x2.append(ans[1])\n",
    "#print(x1,x2)\n"
   ]
  },
  {
   "cell_type": "code",
   "execution_count": 4,
   "metadata": {
    "scrolled": true
   },
   "outputs": [
    {
     "data": {
      "image/png": "[encoded data removed]",
      "text/plain": [
       "<Figure size 432x288 with 1 Axes>"
      ]
     },
     "metadata": {
      "needs_background": "light"
     },
     "output_type": "display_data"
    }
   ],
   "source": [
    "plt.plot(x1,x2,'ro')\n",
    "plt.show()\n",
    "x_=np.array(x1)\n",
    "x_.reshape(-1,1)\n",
    "y_=np.array(x2)\n",
    "y_.reshape(-1,1)\n",
    "\n",
    "xn=np.array([x_,y_])\n",
    "Xn=np.transpose(xn)\n",
    "dataLen = len(Xn)\n",
    "#print(Xn)"
   ]
  },
  {
   "cell_type": "code",
   "execution_count": 5,
   "metadata": {},
   "outputs": [],
   "source": [
    "from numpy import *\n",
    "import time\n",
    "import matplotlib.pyplot as plt\n",
    "\n",
    "\n",
    "# calculate Euclidean distance 欧几里得度量\n",
    "def euclDistance(vector1, vector2):\n",
    "    return sqrt(sum(power(vector2 - vector1, 2)))  # 求这两个矩阵的距离，vector1、2均为矩阵\n",
    "\n",
    "# init centroids with random samples\n",
    "# 在样本集中随机选取k个样本点作为初始质心\n",
    "def initCentroids(dataSet, k):\n",
    "    numSamples, dim = dataSet.shape  # 矩阵的行数、列数\n",
    "    centroids = zeros((k, dim))  # 感觉要不要你都可以\n",
    "    #centroids[0, :]=mean(dataSet, axis=0)\n",
    "    centroids[0, :] =[median(dataSet[:,0]),median(dataSet[:,1])]\n",
    "    #print(centroids[0, :])\n",
    "    i=1\n",
    "    while i<k :\n",
    "        index = int(random.uniform(0, numSamples))  # 随机产生一个浮点数，然后将其转化为int型\n",
    "        if euclDistance(centroids[0, :], dataSet[index, :])<20:\n",
    "            continue;\n",
    "        centroids[i, :] = dataSet[index, :]\n",
    "        i+=1\n",
    "    #print(centroids)\n",
    "    return centroids\n",
    "\n",
    "\n",
    "# k-means cluster\n",
    "# dataSet为一个矩阵\n",
    "# k为将dataSet矩阵中的样本分成k个类\n",
    "def kmeans(dataSet, k):\n",
    "    max,maxLen=[],0\n",
    "    numSamples = dataSet.shape[0]  # 读取矩阵dataSet的第一维度的长度,即获得有多少个样本数据\n",
    "    # first column stores which cluster this sample belongs to,\n",
    "    # second column stores the error between this sample and its centroid\n",
    "    clusterAssment = mat(zeros((numSamples, 2)))  # 得到一个N*2的零矩阵\n",
    "    clusterChanged = True\n",
    "    #times=0\n",
    "\n",
    "    ## step 1: init centroids\n",
    "    centroids = initCentroids(dataSet, k)  # 在样本集中随机选取k个样本点作为初始质心\n",
    "\n",
    "    while clusterChanged:\n",
    "        clusterChanged = False\n",
    "        #times+=1\n",
    "        ## for each sample\n",
    "        for i in range(numSamples):  # range\n",
    "            minDist = 100000.0\n",
    "            minIndex = 0\n",
    "            ## for each centroid\n",
    "            ## step 2: find the centroid who is closest\n",
    "            # 计算每个样本点与质点之间的距离，将其归内到距离最小的那一簇\n",
    "            for j in range(k):\n",
    "                distance = euclDistance(centroids[j, :], dataSet[i, :])\n",
    "                if distance < minDist:\n",
    "                    minDist = distance\n",
    "                    minIndex = j\n",
    "\n",
    "                    ## step 3: update its cluster\n",
    "            # k个簇里面与第i个样本距离最小的的标号和距离保存在clusterAssment中\n",
    "            # 若所有的样本不在变化，则退出while循环\n",
    "            if clusterAssment[i, 0] != minIndex :\n",
    "                clusterChanged = True\n",
    "                clusterAssment[i, :] = minIndex, minDist ** 2  # 两个**表示的是minDist的平方\n",
    "\n",
    "        ## step 4: update centroids 更新质心\n",
    "        for j in range(k):\n",
    "            # clusterAssment[:,0].A==j是找出矩阵clusterAssment中第一列元素中等于j的行的下标，返回的是一个以array的列表，第一个array为等于j的下标\n",
    "            pointsInCluster = dataSet[nonzero(clusterAssment[:, 0].A == j)[0]]  # 将dataSet矩阵中相对应的样本提取出来\n",
    "\n",
    "            #centroids[j, :] = mean(pointsInCluster, axis=0)  # 计算标注为j的所有样本的平均值\n",
    "            centroids[j, :] =[median(pointsInCluster[:,0]),median(pointsInCluster[:,1])] # 计算标注为j的所有样本的中位值\n",
    "            #代码修改部分\n",
    "            ##print(pointsInCluster)\n",
    "            if maxLen<(len(pointsInCluster)):\n",
    "                maxLen=len(pointsInCluster)\n",
    "                max=centroids[j, :]\n",
    "                \n",
    "\n",
    "    print('Congratulations, cluster complete!')\n",
    "    #print(pointsInCluster)\n",
    "    #print(median(pointsInCluster[:,1]))\n",
    "    #print(times)\n",
    "    #print(maxLen)\n",
    "    return max,centroids, clusterAssment\n",
    "\n",
    "\n",
    "# show your cluster only available with 2-D data\n",
    "# centroids为k个类别，其中保存着每个类别的质心\n",
    "# clusterAssment为样本的标记，第一列为此样本的类别号，第二列为到此类别质心的距离\n",
    "def showCluster(dataSet, k, centroids, clusterAssment):\n",
    "    numSamples, dim = dataSet.shape\n",
    "    if dim != 2:\n",
    "        print(\"Sorry! I can not draw because the dimension of your data is not 2!\")\n",
    "        return 1\n",
    "\n",
    "    mark = ['or', 'ob', 'og', 'ok', '^r', '+r', 'sr', 'dr', '<r', 'pr']\n",
    "    if k > len(mark):\n",
    "        print(\"Sorry! Your k is too large! please contact wojiushimogui\")\n",
    "        return 1\n",
    "\n",
    "        # draw all samples\n",
    "    for i in range(numSamples):\n",
    "        markIndex = int(clusterAssment[i, 0])  # 为样本指定颜色\n",
    "        plt.plot(dataSet[i, 0], dataSet[i, 1], mark[markIndex])\n",
    "\n",
    "    mark = ['Dr', 'Db', 'Dg', 'Dk', '^b', '+b', 'sb', 'db', '<b', 'pb']\n",
    "    # draw the centroids\n",
    "    for i in range(k):\n",
    "        plt.plot(centroids[i, 0], centroids[i, 1], mark[i], markersize=12)\n",
    "\n",
    "    plt.show()"
   ]
  },
  {
   "cell_type": "code",
   "execution_count": 26,
   "metadata": {
    "scrolled": false
   },
   "outputs": [
    {
     "name": "stdout",
     "output_type": "stream",
     "text": [
      "Congratulations, cluster complete!\n",
      "[100. 100.]\n"
     ]
    }
   ],
   "source": [
    "ans,centroids, clusterAssment =kmeans(Xn,3)\n",
    "print(ans)\n",
    "#print(centroids)\n",
    "#print(clusterAssment)"
   ]
  },
  {
   "cell_type": "code",
   "execution_count": 7,
   "metadata": {
    "scrolled": false
   },
   "outputs": [
    {
     "data": {
      "image/png": "[encoded data removed]",
      "text/plain": [
       "<Figure size 432x288 with 1 Axes>"
      ]
     },
     "metadata": {
      "needs_background": "light"
     },
     "output_type": "display_data"
    }
   ],
   "source": [
    "showCluster(Xn,3,centroids, clusterAssment)"
   ]
  }
 ],
 "metadata": {
  "anaconda-cloud": {},
  "kernelspec": {
   "display_name": "Python 3",
   "language": "python",
   "name": "python3"
  },
  "language_info": {
   "codemirror_mode": {
    "name": "ipython",
    "version": 3
   },
   "file_extension": ".py",
   "mimetype": "text/x-python",
   "name": "python",
   "nbconvert_exporter": "python",
   "pygments_lexer": "ipython3",
   "version": "3.7.1rc2"
  }
 },
 "nbformat": 4,
 "nbformat_minor": 1
}
