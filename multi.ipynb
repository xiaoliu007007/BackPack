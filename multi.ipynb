{
 "cells": [
  {
   "cell_type": "code",
   "execution_count": 1,
   "metadata": {
    "scrolled": true
   },
   "outputs": [],
   "source": [
    "import numpy as np\n",
    "import matplotlib.pyplot as plt\n",
    "from sklearn import datasets"
   ]
  },
  {
   "cell_type": "code",
   "execution_count": 7,
   "metadata": {
    "scrolled": false
   },
   "outputs": [
    {
     "name": "stdout",
     "output_type": "stream",
     "text": [
      "[[90, 90, 19], [91, 90, 19], [92, 90, 19], [93, 90, 19], [94, 90, 19], [95, 90, 19], [96, 90, 19], [97, 90, 19], [98, 90, 19], [99, 90, 19], [100, 90, 19], [101, 90, 19], [102, 90, 19], [103, 90, 19], [104, 90, 19], [105, 90, 19], [106, 90, 19], [107, 90, 19], [108, 90, 19], [109, 90, 19]]\n"
     ]
    }
   ],
   "source": [
    "import os\n",
    "num=[]\n",
    "Z = []\n",
    "path = '/Users/liuyingjie/Downloads/data/two/2/'\n",
    "filenames = os.listdir(path)\n",
    "indexs = []\n",
    "for filename in filenames:\n",
    "    if filename.startswith(\".\"):\n",
    "        continue\n",
    "    indexs.append(int(filename))\n",
    "indexs.sort()\n",
    "#print(indexs)\n",
    "for index in indexs:\n",
    "    file_path = path + str(index)\n",
    "    with open(file_path,'r',encoding='utf8') as f:\n",
    "        lines=f.readlines()\n",
    "        #print(lines)\n",
    "    for i in range(102, 122):\n",
    "        temps = lines[i].split()\n",
    "        #print(temps)\n",
    "        point=[]\n",
    "        point.append(int(temps[2]))\n",
    "        point.append(int(temps[3]))\n",
    "        num.append(point)\n",
    "    for line in lines:\n",
    "        temps = line.split()\n",
    "        size = len(temps)\n",
    "        #print(size)\n",
    "        if(size == 11 and temps[0]=='10000000'):\n",
    "            #print(temps)\n",
    "            Z.append(int(float(temps[1])*37000000000))\n",
    "            Z.append(int(float(temps[6])*37000000000))\n",
    "        if(size == 16 and temps[0] == '10000000'):\n",
    "            #print(temps)\n",
    "            Z.append(int(float(temps[1])*37000000000))\n",
    "            Z.append(int(float(temps[6])*37000000000))\n",
    "            Z.append(int(float(temps[11])*37000000000))\n",
    "            \n",
    "for i in range(len(Z)):\n",
    "    num[i].append(Z[i])\n",
    "print(num)"
   ]
  }
 ],
 "metadata": {
  "anaconda-cloud": {},
  "kernelspec": {
   "display_name": "Python 3",
   "language": "python",
   "name": "python3"
  },
  "language_info": {
   "codemirror_mode": {
    "name": "ipython",
    "version": 3
   },
   "file_extension": ".py",
   "mimetype": "text/x-python",
   "name": "python",
   "nbconvert_exporter": "python",
   "pygments_lexer": "ipython3",
   "version": "3.7.1rc2"
  }
 },
 "nbformat": 4,
 "nbformat_minor": 1
}
