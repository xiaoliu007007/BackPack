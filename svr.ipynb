{
 "cells": [
  {
   "cell_type": "code",
   "execution_count": 1,
   "metadata": {},
   "outputs": [
    {
     "name": "stderr",
     "output_type": "stream",
     "text": [
      "Using TensorFlow backend.\n"
     ]
    }
   ],
   "source": [
    "#BP神经网络\n",
    "%matplotlib qt5\n",
    "import os\n",
    "import numpy as np\n",
    "import matplotlib.pyplot as plt\n",
    "from keras.models import Sequential\n",
    "from keras.layers import Dense\n",
    "from keras.callbacks import Callback\n",
    "from sklearn.preprocessing import scale\n",
    "import matplotlib.pyplot as plt  \n",
    "from mpl_toolkits.mplot3d import Axes3D  "
   ]
  },
  {
   "cell_type": "code",
   "execution_count": 2,
   "metadata": {
    "scrolled": false
   },
   "outputs": [],
   "source": [
    "#训练数据\n",
    "X = []\n",
    "Y = []\n",
    "Z = []\n",
    "path = '/Users/liuyingjie/Downloads/data/BP/'\n",
    "filenames = os.listdir(path)\n",
    "indexs = []\n",
    "for filename in filenames:\n",
    "    if filename.startswith(\".\"):\n",
    "        continue\n",
    "    indexs.append(int(filename))\n",
    "indexs.sort()\n",
    "#print(indexs)\n",
    "for index in indexs:\n",
    "    file_path = path + str(index)\n",
    "    with open(file_path,'r',encoding='utf8') as f:\n",
    "        lines=f.readlines()\n",
    "    for num in range(99, 119):\n",
    "        #print(lines[num])\n",
    "        temps = lines[num].split()\n",
    "        X.append(int(temps[2]))\n",
    "        #print(X)\n",
    "        #print(float(temps[2])/100)\n",
    "        Y.append(int(temps[3]))\n",
    "        #print(float(temps[3])/100)\n",
    "    for line in lines:\n",
    "        temps = line.split()\n",
    "        size = len(temps)\n",
    "        #print(size)\n",
    "        if(size == 11 and temps[0]=='10000000'):\n",
    "            #print(temps)\n",
    "            Z.append(int(float(temps[1])*37000000000))\n",
    "            Z.append(int(float(temps[6])*37000000000))\n",
    "        if(size == 16 and temps[0] == '10000000'):\n",
    "            #print(temps)\n",
    "            Z.append(int(float(temps[1])*37000000000))\n",
    "            Z.append(int(float(temps[6])*37000000000))\n",
    "            Z.append(int(float(temps[11])*37000000000))\n",
    "            \n",
    "            "
   ]
  },
  {
   "cell_type": "code",
   "execution_count": 4,
   "metadata": {},
   "outputs": [
    {
     "data": {
      "text/plain": [
       "(2, 240)"
      ]
     },
     "execution_count": 4,
     "metadata": {},
     "output_type": "execute_result"
    }
   ],
   "source": [
    "#预测数据\n",
    "Point1=[90,110]#预测场左上角坐标\n",
    "Point2=[110,90]#预测场右下角坐标\n",
    "X_interval=0.3\n",
    "Y_interval=-0.3\n",
    "X_p = []\n",
    "Y_p = []\n",
    "X_start=Point1[0]-X_interval\n",
    "Y_start=Point1[1]-Y_interval\n",
    "while abs(Point2[0] -X_start)>=abs(X_interval)or abs(Point2[1]-Y_start)>=abs(Y_interval):\n",
    "    X_start=Point1[0]-X_interval\n",
    "    Y_start+=Y_interval\n",
    "    while abs(Point2[0] -X_start)>=abs(X_interval):\n",
    "        X_start+=X_interval\n",
    "        X_p.append(X_start)\n",
    "        Y_p.append(Y_start)\n",
    "        \n",
    "X_pred = scale(np.array(X_p))\n",
    "Y_pred = scale(np.array(Y_p))\n",
    "X_pred_ = np.array([X_pred,Y_pred])\n",
    "\n",
    "X = scale(np.array(X))\n",
    "Y = scale(np.array(Y))\n",
    "X_ = np.array([X,Y])\n",
    "Y_ = scale(np.array(Z))\n",
    "\n",
    "X_.shape"
   ]
  },
  {
   "cell_type": "code",
   "execution_count": 8,
   "metadata": {},
   "outputs": [
    {
     "name": "stdout",
     "output_type": "stream",
     "text": [
      "99.8999999999999\n",
      "99.8000000000001\n",
      "[-3.89889471 -3.87847365 -3.84983255 ... -3.47370245 -3.51041717\n",
      " -3.53945499]\n"
     ]
    },
    {
     "name": "stderr",
     "output_type": "stream",
     "text": [
      "/Library/Frameworks/Python.framework/Versions/3.7/lib/python3.7/site-packages/sklearn/utils/validation.py:724: DataConversionWarning: A column-vector y was passed when a 1d array was expected. Please change the shape of y to (n_samples, ), for example using ravel().\n",
      "  y = column_or_1d(y, warn=True)\n"
     ]
    }
   ],
   "source": [
    "from sklearn.svm import SVR\n",
    "clf = SVR()\n",
    "clf.fit(X_.T, Y_.reshape((-1,1))) \n",
    "Y_pred = clf.predict(X_pred_.T)\n",
    "\n",
    "max,ans=-123456,0\n",
    "for i in range(len(Y_pred)):\n",
    "    if Y_pred[i]>max:\n",
    "        ans=i\n",
    "        max=Y_pred[i]\n",
    "print(X_p[ans])\n",
    "print(Y_p[ans])"
   ]
  }
 ],
 "metadata": {
  "anaconda-cloud": {},
  "kernelspec": {
   "display_name": "Python 3",
   "language": "python",
   "name": "python3"
  },
  "language_info": {
   "codemirror_mode": {
    "name": "ipython",
    "version": 3
   },
   "file_extension": ".py",
   "mimetype": "text/x-python",
   "name": "python",
   "nbconvert_exporter": "python",
   "pygments_lexer": "ipython3",
   "version": "3.7.1rc2"
  }
 },
 "nbformat": 4,
 "nbformat_minor": 1
}
