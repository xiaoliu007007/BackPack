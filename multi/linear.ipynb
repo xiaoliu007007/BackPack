{
 "cells": [
  {
   "cell_type": "code",
   "execution_count": 6,
   "metadata": {
    "scrolled": true
   },
   "outputs": [],
   "source": [
    "import numpy as np\n",
    "import matplotlib.pyplot as plt\n",
    "from sklearn import datasets"
   ]
  },
  {
   "cell_type": "code",
   "execution_count": 7,
   "metadata": {
    "scrolled": false
   },
   "outputs": [
    {
     "name": "stdout",
     "output_type": "stream",
     "text": [
      "[[90.0, 90.0, 2017], [91.0, 90.0, 2353], [92.0, 90.0, 2804], [93.0, 90.0, 3444], [94.0, 90.0, 4369], [95.0, 90.0, 5691], [96.0, 90.0, 7634], [97.0, 90.0, 10363], [98.0, 90.0, 13312], [99.0, 90.0, 14774], [100.0, 90.0, 13361], [101.0, 90.0, 10519], [102.0, 90.0, 7888], [103.0, 90.0, 5992], [104.0, 90.0, 4740], [105.0, 90.0, 3900], [106.0, 90.0, 3301], [107.0, 90.0, 2962], [108.0, 90.0, 2559], [109.0, 90.0, 2286], [110.0, 90.0, 2062], [110.0, 91.0, 2295], [110.0, 92.0, 2551], [110.0, 93.0, 2887], [110.0, 94.0, 3313], [110.0, 95.0, 3904], [110.0, 96.0, 4751], [110.0, 97.0, 6020], [110.0, 98.0, 7906], [110.0, 99.0, 10531], [110.0, 100.0, 13410], [110.0, 101.0, 14798], [110.0, 102.0, 13339], [110.0, 103.0, 10398], [110.0, 104.0, 7688], [110.0, 105.0, 5732], [110.0, 106.0, 4400], [110.0, 107.0, 3498], [110.0, 108.0, 2860], [110.0, 109.0, 2413], [110.0, 110.0, 2102], [109.0, 110.0, 2226], [108.0, 110.0, 2357], [107.0, 110.0, 2484], [106.0, 110.0, 2583], [105.0, 110.0, 2679], [104.0, 110.0, 2794], [103.0, 110.0, 2930], [102.0, 110.0, 3140], [101.0, 110.0, 3470], [100.0, 110.0, 4206], [99.0, 110.0, 4750], [98.0, 110.0, 5968], [97.0, 110.0, 7818], [96.0, 110.0, 10407], [95.0, 110.0, 13278], [94.0, 110.0, 14601], [93.0, 110.0, 13133], [92.0, 110.0, 10165], [91.0, 110.0, 7434], [90.0, 110.0, 5468], [90.0, 109.0, 6749], [90.0, 108.0, 7910], [90.0, 107.0, 8426], [90.0, 106.0, 8023], [90.0, 105.0, 6977], [90.0, 104.0, 5804], [90.0, 103.0, 4831], [90.0, 102.0, 4061], [90.0, 101.0, 3528], [90.0, 100.0, 3163], [90.0, 99.0, 2907], [90.0, 98.0, 2749], [90.0, 97.0, 2646], [90.0, 96.0, 2577], [90.0, 95.0, 2517], [90.0, 94.0, 2452], [90.0, 93.0, 2380], [90.0, 92.0, 2278], [90.0, 91.0, 2151]]\n"
     ]
    }
   ],
   "source": [
    "import os\n",
    "num=[]\n",
    "Z = []\n",
    "path = '/Users/liuyingjie/Downloads/data/multi/3/'\n",
    "filenames = os.listdir(path)\n",
    "indexs = []\n",
    "for filename in filenames:\n",
    "    if filename.startswith(\".\"):\n",
    "        continue\n",
    "    indexs.append(int(filename))\n",
    "indexs.sort()\n",
    "#print(indexs)\n",
    "for index in indexs:\n",
    "    file_path = path + str(index)\n",
    "    with open(file_path,'r',encoding='utf8') as f:\n",
    "        lines=f.readlines()\n",
    "        #print(lines)\n",
    "    for i in range(102, 122):\n",
    "        temps = lines[i].split()\n",
    "        #print(temps)\n",
    "        point=[]\n",
    "        point.append(float(temps[2])/100)\n",
    "        point.append(float(temps[3])/100)\n",
    "        num.append(point)\n",
    "    for line in lines:\n",
    "        temps = line.split()\n",
    "        size = len(temps)\n",
    "        #print(size)\n",
    "        if(size == 11 and temps[0]=='10000000'):\n",
    "            #print(temps)\n",
    "            Z.append(int(float(temps[1])*37000000000))\n",
    "            Z.append(int(float(temps[6])*37000000000))\n",
    "        if(size == 16 and temps[0] == '10000000'):\n",
    "            #print(temps)\n",
    "            Z.append(int(float(temps[1])*37000000000))\n",
    "            Z.append(int(float(temps[6])*37000000000))\n",
    "            Z.append(int(float(temps[11])*37000000000))\n",
    "            \n",
    "for i in range(len(Z)):\n",
    "    num[i].append(Z[i])\n",
    "print(num)"
   ]
  },
  {
   "cell_type": "code",
   "execution_count": 10,
   "metadata": {},
   "outputs": [
    {
     "name": "stdout",
     "output_type": "stream",
     "text": [
      "[[94.0, 99.0], [101.0, 107.0]]\n"
     ]
    }
   ],
   "source": [
    "def predict(num):\n",
    "    ans = getFourLine(num)\n",
    "    #print(ans)\n",
    "    maxLine = getMaxLine(ans)\n",
    "    print(maxLine)\n",
    "    #res = getValue(ans,maxLine)\n",
    "    #return res\n",
    "    \n",
    "\n",
    "def getFourLine(num):\n",
    "    num.sort(key=lambda k:k[0]+k[1])\n",
    "    base1,help1,base2,help2=[],[],[],[] #base1,base2 x轴，help1,help2 y轴\n",
    "    for n in num:\n",
    "        if n[1]==num[0][1]:\n",
    "            base1.append(n)\n",
    "        if n[1]==num[len(num)-1][1]:\n",
    "            base2.append(n)\n",
    "        if n[0]==num[0][0]:\n",
    "            help1.append(n)\n",
    "        if n[0]==num[len(num)-1][0]:\n",
    "            help2.append(n)\n",
    "    base1.sort(key=lambda k:k[0])\n",
    "    base2.sort(key=lambda k:k[0])\n",
    "    help1.sort(key=lambda k:k[1])\n",
    "    help2.sort(key=lambda k:k[1])\n",
    "    ans=[]\n",
    "    ans.append(base1)\n",
    "    ans.append(base2)\n",
    "    ans.append(help1)\n",
    "    ans.append(help2)\n",
    "    return ans\n",
    "\n",
    "def getMaxLine(num):\n",
    "    #获取最高基准线\n",
    "    x = []\n",
    "    y = []\n",
    "    i = 0\n",
    "    while i < 2:\n",
    "        j = 1\n",
    "        while j < len(num[i]) - 1:\n",
    "            if num[i][j][2] > num[i][j-1][2] and num[i][j][2] > num[i][j+1][2]:\n",
    "                x.append(num[i][j][0])\n",
    "            j += 1\n",
    "        i += 1\n",
    "    \n",
    "    while i < 4:\n",
    "        j = 1\n",
    "        while j < len(num[i]) - 1:\n",
    "            if num[i][j][2] > num[i][j-1][2] and num[i][j][2] > num[i][j+1][2]:\n",
    "                y.append(num[i][j][1])\n",
    "            j += 1\n",
    "        i += 1\n",
    "    ans = []\n",
    "    x.sort()\n",
    "    y.sort()\n",
    "    x1, y1 = [], []\n",
    "    i = 1\n",
    "    x1.append(x[0])\n",
    "    while i < len(x):\n",
    "        if x[i] != x[i-1]:\n",
    "            x1.append(x[i])\n",
    "        i += 1\n",
    "    i = 1\n",
    "    y1.append(y[0])\n",
    "    while i < len(y):\n",
    "        if y[i] != y[i-1]:\n",
    "            y1.append(y[i])\n",
    "        i += 1\n",
    "        \n",
    "    ans.append(x1)\n",
    "    ans.append(y1)\n",
    "    return ans\n",
    "\n",
    "def getValue(ans,maxLine):\n",
    "    res = []\n",
    "    for i in maxLine[0]:\n",
    "        for j in maxLine[1]:\n",
    "            n = [i,j]\n",
    "            res.append(n)\n",
    "    return res\n",
    "\n",
    "predict(num)"
   ]
  }
 ],
 "metadata": {
  "anaconda-cloud": {},
  "kernelspec": {
   "display_name": "Python 3",
   "language": "python",
   "name": "python3"
  },
  "language_info": {
   "codemirror_mode": {
    "name": "ipython",
    "version": 3
   },
   "file_extension": ".py",
   "mimetype": "text/x-python",
   "name": "python",
   "nbconvert_exporter": "python",
   "pygments_lexer": "ipython3",
   "version": "3.7.1rc2"
  }
 },
 "nbformat": 4,
 "nbformat_minor": 1
}
