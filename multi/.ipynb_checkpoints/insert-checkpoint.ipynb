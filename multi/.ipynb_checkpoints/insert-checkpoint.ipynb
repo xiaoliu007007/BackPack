{
 "cells": [
  {
   "cell_type": "code",
   "execution_count": 1,
   "metadata": {},
   "outputs": [
    {
     "name": "stderr",
     "output_type": "stream",
     "text": [
      "Using TensorFlow backend.\n"
     ]
    }
   ],
   "source": [
    "#BP神经网络\n",
    "%matplotlib qt5\n",
    "import os\n",
    "import numpy as np\n",
    "import matplotlib.pyplot as plt\n",
    "from keras.models import Sequential\n",
    "from keras.layers import Dense\n",
    "from keras.callbacks import Callback\n",
    "from sklearn.preprocessing import scale\n",
    "import matplotlib.pyplot as plt  \n",
    "from mpl_toolkits.mplot3d import Axes3D  "
   ]
  },
  {
   "cell_type": "code",
   "execution_count": 2,
   "metadata": {
    "scrolled": true
   },
   "outputs": [],
   "source": [
    "#训练数据\n",
    "import os\n",
    "num=[]\n",
    "Z = []\n",
    "path = '/Users/liuyingjie/Downloads/data/multi/1/'\n",
    "filenames = os.listdir(path)\n",
    "indexs = []\n",
    "for filename in filenames:\n",
    "    if filename.startswith(\".\"):\n",
    "        continue\n",
    "    indexs.append(int(filename))\n",
    "indexs.sort()\n",
    "#print(indexs)\n",
    "for index in indexs:\n",
    "    file_path = path + str(index)\n",
    "    with open(file_path,'r',encoding='utf8') as f:\n",
    "        lines=f.readlines()\n",
    "        #print(lines)\n",
    "    for i in range(102, 122):\n",
    "        temps = lines[i].split()\n",
    "        #print(temps)\n",
    "        point=[]\n",
    "        point.append(float(temps[2])/100)\n",
    "        point.append(float(temps[3])/100)\n",
    "        num.append(point)\n",
    "    for line in lines:\n",
    "        temps = line.split()\n",
    "        size = len(temps)\n",
    "        #print(size)\n",
    "        if(size == 11 and temps[0]=='10000000'):\n",
    "            #print(temps)\n",
    "            Z.append(int(float(temps[1])*37000000000))\n",
    "            Z.append(int(float(temps[6])*37000000000))\n",
    "        if(size == 16 and temps[0] == '10000000'):\n",
    "            #print(temps)\n",
    "            Z.append(int(float(temps[1])*37000000000))\n",
    "            Z.append(int(float(temps[6])*37000000000))\n",
    "            Z.append(int(float(temps[11])*37000000000))\n",
    "            \n",
    "for i in range(len(Z)):\n",
    "    num[i].append(Z[i])\n",
    "#print(num)          "
   ]
  },
  {
   "cell_type": "code",
   "execution_count": 3,
   "metadata": {
    "scrolled": true
   },
   "outputs": [],
   "source": [
    "def createRegion(num):\n",
    "    nums = []\n",
    "    X = []\n",
    "    for i in range(len(num)) :\n",
    "        X.append(num[i])\n",
    "        if i == len(num) - 1:\n",
    "            nums.append(X)\n",
    "            break\n",
    "        if num[i + 1][1] != num[i][1]:\n",
    "            nums.append(X)\n",
    "            X = []\n",
    "            continue\n",
    "\n",
    "    startX, startY = num[0][0],num[0][1]\n",
    "    endX, endY = num[len(num)-1][0], num[len(num)-1][1]\n",
    "    i, j = startX,startY\n",
    "    interval = 0.3\n",
    "    ans = []\n",
    "    while j <= endY:\n",
    "        i = startX\n",
    "        predict = []\n",
    "        while i <= endX:\n",
    "            X = [i,j,0]\n",
    "            predict.append(X)\n",
    "            i += interval\n",
    "        ans.append(predict)\n",
    "        j += interval\n",
    "\n",
    "    numsi, numsj = 0,0\n",
    "    for i in range(len(ans)):\n",
    "        numsj = 0\n",
    "        if int(nums[numsi][0][1]) != int(ans[i][0][1]):\n",
    "            numsi += 1\n",
    "        for j in range(len(ans[i])):\n",
    "            if int(nums[numsi][numsj][0]) != int(ans[i][j][0]):\n",
    "                numsj += 1\n",
    "            #print(ans[i][j],nums[numsi][numsj])\n",
    "            ans[i][j].extend(nums[numsi][numsj])\n",
    "            ans[i][j].extend(nums[numsi][numsj+1])\n",
    "            ans[i][j].extend(nums[numsi+1][numsj])\n",
    "            ans[i][j].extend(nums[numsi+1][numsj+1])\n",
    "    return ans\n",
    "\n",
    "ans = createRegion(num)             \n",
    "#change(ans,nums)\n",
    "#print(ans)"
   ]
  },
  {
   "cell_type": "code",
   "execution_count": 4,
   "metadata": {},
   "outputs": [
    {
     "name": "stdout",
     "output_type": "stream",
     "text": [
      "[[97.19999999999993, 92.99999999999997, 218668.99999999537, 97.0, 92.0, 56417, 98.0, 92.0, 56502, 97.0, 93.0, 218681, 98.0, 93.0, 218621], [105.89999999999985, 98.99999999999991, 221892.1999999667, 105.0, 98.0, 50249, 106.0, 98.0, 168224, 105.0, 99.0, 56195, 106.0, 99.0, 240303], [101.99999999999989, 102.89999999999988, 232790.39999997095, 101.0, 102.0, 49920, 102.0, 102.0, 168768, 101.0, 103.0, 54119, 102.0, 103.0, 239904], [92.99999999999997, 105.89999999999985, 219549.79999996704, 92.0, 105.0, 27567, 93.0, 105.0, 52247, 92.0, 106.0, 47200, 93.0, 106.0, 238139]]\n"
     ]
    }
   ],
   "source": [
    "def calculate(point1,point2,point3,point4,ans):\n",
    "    #print(point1,point2,point3,point4,ans)\n",
    "    a = abs(ans[1] - point1[1]) / abs(point3[1] - point1[1])\n",
    "    b = abs(ans[0] - point1[0]) / abs(point2[0] - point1[0])\n",
    "    ans[2] = a*(1-b)*point3[2] + a*b*point4[2] + (1-a)*(1-b)*point1[2] + (1-a)*b*point2[2]\n",
    "\n",
    "def predict(ans):\n",
    "    res = []\n",
    "    for i in range(len(ans)):\n",
    "        for j in range(len(ans[i])):\n",
    "            calculate(ans[i][j][3:6],ans[i][j][6:9],ans[i][j][9:12],ans[i][j][12:15],ans[i][j])\n",
    "    #print(ans)\n",
    "    i,j = 1,1\n",
    "    while i < len(ans) - 1:\n",
    "        j = 0\n",
    "        while j < len(ans[i]) - 1:\n",
    "            if ans[i][j][2] > ans [i-1][j-1][2] and ans[i][j][2] > ans [i-1][j][2] and ans[i][j][2] > ans [i-1][j+1][2] and ans[i][j][2] > ans [i][j-1][2] and ans[i][j][2] > ans [i][j+1][2] and ans[i][j][2] > ans [i+1][j-1][2] and ans[i][j][2] > ans [i+1][j][2] and ans[i][j][2] > ans [i+1][j+1][2]:\n",
    "                res.append(ans[i][j])\n",
    "            j += 1\n",
    "        i += 1\n",
    "    return res\n",
    "            \n",
    "#point1=[0,0,1]\n",
    "#point2=[2,0,3]\n",
    "#point3=[0,2,4]\n",
    "#point4=[2,2,9]\n",
    "#ans = [2,2,0]\n",
    "#print(calculate(point1,point2,point3,point4,ans))\n",
    "pre = predict(ans)\n",
    "print(pre[0][:3],pre[1][:3],pre[2][:3],pre[3][:3])\n",
    "#print(ans)"
   ]
  }
 ],
 "metadata": {
  "anaconda-cloud": {},
  "kernelspec": {
   "display_name": "Python 3",
   "language": "python",
   "name": "python3"
  },
  "language_info": {
   "codemirror_mode": {
    "name": "ipython",
    "version": 3
   },
   "file_extension": ".py",
   "mimetype": "text/x-python",
   "name": "python",
   "nbconvert_exporter": "python",
   "pygments_lexer": "ipython3",
   "version": "3.7.1rc2"
  }
 },
 "nbformat": 4,
 "nbformat_minor": 1
}
