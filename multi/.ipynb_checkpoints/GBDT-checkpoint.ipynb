{
 "cells": [
  {
   "cell_type": "code",
   "execution_count": 1,
   "metadata": {},
   "outputs": [
    {
     "name": "stderr",
     "output_type": "stream",
     "text": [
      "Using TensorFlow backend.\n"
     ]
    }
   ],
   "source": [
    "#BP神经网络\n",
    "%matplotlib qt5\n",
    "import os\n",
    "import numpy as np\n",
    "import matplotlib.pyplot as plt\n",
    "from keras.models import Sequential\n",
    "from keras.layers import Dense\n",
    "from keras.callbacks import Callback\n",
    "from sklearn.preprocessing import scale\n",
    "import matplotlib.pyplot as plt  \n",
    "from mpl_toolkits.mplot3d import Axes3D  "
   ]
  },
  {
   "cell_type": "code",
   "execution_count": 2,
   "metadata": {
    "scrolled": false
   },
   "outputs": [],
   "source": [
    "#训练数据\n",
    "X = []\n",
    "Y = []\n",
    "Z = []\n",
    "path = '/Users/liuyingjie/Downloads/data/multi/1/'\n",
    "filenames = os.listdir(path)\n",
    "indexs = []\n",
    "for filename in filenames:\n",
    "    if filename.startswith(\".\"):\n",
    "        continue\n",
    "    indexs.append(int(filename))\n",
    "indexs.sort()\n",
    "#print(indexs)\n",
    "for index in indexs:\n",
    "    file_path = path + str(index)\n",
    "    with open(file_path,'r',encoding='utf8') as f:\n",
    "        lines=f.readlines()\n",
    "    for num in range(102, 122):\n",
    "        #print(lines[num])\n",
    "        temps = lines[num].split()\n",
    "        X.append(float(temps[2])/100)\n",
    "        Y.append(float(temps[3])/100)\n",
    "    for line in lines:\n",
    "        temps = line.split()\n",
    "        size = len(temps)\n",
    "        if(size == 11 and temps[0]=='10000000'):\n",
    "            Z.append(int(float(temps[1])*37000000000))\n",
    "            Z.append(int(float(temps[6])*37000000000))\n",
    "        if(size == 16 and temps[0] == '10000000'):\n",
    "            Z.append(int(float(temps[1])*37000000000))\n",
    "            Z.append(int(float(temps[6])*37000000000))\n",
    "            Z.append(int(float(temps[11])*37000000000))\n",
    "            \n",
    "          "
   ]
  },
  {
   "cell_type": "code",
   "execution_count": 3,
   "metadata": {},
   "outputs": [],
   "source": [
    "#预测数据\n",
    "Point1=[90,110]#预测场左上角坐标\n",
    "Point2=[110,90]#预测场右下角坐标\n",
    "X_interval=0.3\n",
    "Y_interval=-0.3\n",
    "X_p = []\n",
    "Y_p = []\n",
    "X_start=Point1[0]-X_interval\n",
    "Y_start=Point1[1]-Y_interval\n",
    "while abs(Point2[0] -X_start)>=abs(X_interval)or abs(Point2[1]-Y_start)>=abs(Y_interval):\n",
    "    X_start=Point1[0]-X_interval\n",
    "    Y_start+=Y_interval\n",
    "    while abs(Point2[0] -X_start)>=abs(X_interval):\n",
    "        X_start+=X_interval\n",
    "        X_p.append(X_start)\n",
    "        Y_p.append(Y_start)\n",
    "#print(X_p)\n",
    "#print(Y_p)\n",
    "#print(len(X_p))\n",
    "#print(len(Y_p))"
   ]
  },
  {
   "cell_type": "code",
   "execution_count": 4,
   "metadata": {
    "scrolled": true
   },
   "outputs": [],
   "source": [
    "X_pred = scale(np.array(X_p))\n",
    "Y_pred = scale(np.array(Y_p))\n",
    "X_pred_ = np.array([X_pred,Y_pred])\n",
    "X = scale(np.array(X))\n",
    "Y = scale(np.array(Y))\n",
    "X_ = np.array([X,Y])\n",
    "Y_ = scale(np.array(Z))"
   ]
  },
  {
   "cell_type": "code",
   "execution_count": 5,
   "metadata": {},
   "outputs": [
    {
     "name": "stdout",
     "output_type": "stream",
     "text": [
      "[[102.89999999999988, 102.50000000000007, 6.977431927268721], [106.79999999999984, 98.9000000000001, 6.974656342341259], [93.59999999999997, 106.10000000000004, 6.927399069940098], [97.79999999999993, 93.50000000000016, 6.3330619696909345]]\n"
     ]
    }
   ],
   "source": [
    "from sklearn.ensemble import GradientBoostingRegressor \n",
    "params = {\n",
    "'n_estimators': 400, \n",
    "'max_depth': 8,\n",
    "'learning_rate': 0.06,\n",
    " 'loss': 'ls',\n",
    " 'subsample':0.8\n",
    " }\n",
    "model=GradientBoostingRegressor(**params)\n",
    "model.fit(X_.T, Y_.T)\n",
    "# 对测试集进行预测\n",
    "Y_pred = model.predict(X_pred_.T)\n",
    "\n",
    "\n",
    "def getDistance(num1,num2):\n",
    "    return pow(abs(num1[0]-num2[0]),2)+pow(abs(num1[1]-num2[1]),2)\n",
    "\n",
    "\n",
    "ans=[]\n",
    "predict=[]\n",
    "xLength=int(abs(Point2[0]-Point1[0])/abs(X_interval))\n",
    "yLength=int(abs(Point2[1]-Point1[1])/abs(Y_interval))\n",
    "i=0\n",
    "while i <len(X_p):\n",
    "    j=0\n",
    "    while j<=xLength:\n",
    "        r=[X_p[i],Y_p[i],Y_pred[i]]\n",
    "        ans.append(r)\n",
    "        i+=1\n",
    "        j+=1\n",
    "\n",
    "ans.sort(key=lambda k:k[2],reverse = True)\n",
    "\n",
    "#print(ans)\n",
    "\n",
    "pre = []\n",
    "ansLen, ansX, ansY = 0, 0, 0\n",
    "for i in range (len(ans)):\n",
    "    if len(pre) == 4:\n",
    "        break\n",
    "    if ans[i][2] == ans[i+1][2]:\n",
    "        continue\n",
    "    ansLen += 1\n",
    "    ansX += ans[i][0]\n",
    "    ansY += ans[i][1]\n",
    "    ansX /= ansLen\n",
    "    ansY /= ansLen\n",
    "    prePoint = [ansX,ansY,ans[i][2]]\n",
    "    if len(pre) == 0 :\n",
    "        pre.append(prePoint)\n",
    "        continue\n",
    "    if len(pre) == 1 and getDistance(pre[0], prePoint) > 3:\n",
    "        pre.append(prePoint)\n",
    "        continue\n",
    "    if len(pre) == 2 and getDistance(pre[0], prePoint) > 3 and getDistance(pre[1], prePoint) > 3:\n",
    "        pre.append(prePoint)\n",
    "        continue\n",
    "    if len(pre) == 3 and getDistance(pre[0], prePoint) > 3 and getDistance(pre[1], prePoint) > 3 and getDistance(pre[2], prePoint) > 3:\n",
    "        pre.append(prePoint)\n",
    "        continue\n",
    "    ansLen, ansX, ansY = 0, 0, 0\n",
    "print(pre)"
   ]
  },
  {
   "cell_type": "code",
   "execution_count": 8,
   "metadata": {},
   "outputs": [],
   "source": [
    "ax = plt.figure().add_subplot(111, projection = '3d')  \n",
    "ax.scatter(X_pred_[0], X_pred_[1], Y_pred, c = 'b', marker = 'o') #点为红色三角形  \n",
    "ax.set_xlabel('X Label')  \n",
    "ax.set_ylabel('Y Label')  \n",
    "ax.set_zlabel('Z Label')  \n",
    "plt.show()"
   ]
  }
 ],
 "metadata": {
  "anaconda-cloud": {},
  "kernelspec": {
   "display_name": "Python 3",
   "language": "python",
   "name": "python3"
  },
  "language_info": {
   "codemirror_mode": {
    "name": "ipython",
    "version": 3
   },
   "file_extension": ".py",
   "mimetype": "text/x-python",
   "name": "python",
   "nbconvert_exporter": "python",
   "pygments_lexer": "ipython3",
   "version": "3.7.1rc2"
  }
 },
 "nbformat": 4,
 "nbformat_minor": 1
}
