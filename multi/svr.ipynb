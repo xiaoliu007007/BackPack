{
 "cells": [
  {
   "cell_type": "code",
   "execution_count": 37,
   "metadata": {},
   "outputs": [],
   "source": [
    "#BP神经网络\n",
    "%matplotlib qt5\n",
    "import os\n",
    "import numpy as np\n",
    "import matplotlib.pyplot as plt\n",
    "from keras.models import Sequential\n",
    "from keras.layers import Dense\n",
    "from keras.callbacks import Callback\n",
    "from sklearn.preprocessing import scale\n",
    "import matplotlib.pyplot as plt  \n",
    "from mpl_toolkits.mplot3d import Axes3D  "
   ]
  },
  {
   "cell_type": "code",
   "execution_count": 38,
   "metadata": {
    "scrolled": false
   },
   "outputs": [
    {
     "name": "stdout",
     "output_type": "stream",
     "text": [
      "[3404, 3887, 4368, 4792, 5076, 5123, 4979, 4625, 4196, 3752, 3344, 2989, 2666, 2403, 2169, 1976, 1820, 1651, 1517, 1404, 1289, 1385, 1515, 1606, 1734, 1869, 2039, 2215, 2397, 2625, 2878, 3108, 3342, 3544, 3688, 3739, 3676, 3517, 3264, 2981, 2673, 3189, 3843, 4657, 5648, 6736, 7787, 8456, 8494, 7910, 6947, 5940, 5020, 4267, 3684, 3203, 2819, 2516, 2257, 2052, 1864, 2032, 2219, 2437, 2687, 2988, 3347, 3807, 4410, 5157, 6110, 7227, 8350, 9151, 9278, 8631, 7461, 6199, 5069, 4129]\n"
     ]
    }
   ],
   "source": [
    "#训练数据\n",
    "X = []\n",
    "Y = []\n",
    "Z = []\n",
    "#path = '/Users/liuyingjie/Downloads/data/multi/1/'\n",
    "path = '/Users/liuyingjie/Downloads/data/two/6/'\n",
    "filenames = os.listdir(path)\n",
    "indexs = []\n",
    "for filename in filenames:\n",
    "    if filename.startswith(\".\"):\n",
    "        continue\n",
    "    indexs.append(int(filename))\n",
    "indexs.sort()\n",
    "#print(indexs)\n",
    "for index in indexs:\n",
    "    file_path = path + str(index)\n",
    "    with open(file_path,'r',encoding='utf8') as f:\n",
    "        lines=f.readlines()\n",
    "    for num in range(102, 122):\n",
    "        #print(lines[num])\n",
    "        temps = lines[num].split()\n",
    "        X.append(float(temps[2])/100)\n",
    "        Y.append(float(temps[3])/100)\n",
    "    for line in lines:\n",
    "        temps = line.split()\n",
    "        size = len(temps)\n",
    "        if(size == 11 and temps[0]=='10000000'):\n",
    "            Z.append(int(float(temps[1])*37000000000))\n",
    "            Z.append(int(float(temps[6])*37000000000))\n",
    "        if(size == 16 and temps[0] == '10000000'):\n",
    "            Z.append(int(float(temps[1])*37000000000))\n",
    "            Z.append(int(float(temps[6])*37000000000))\n",
    "            Z.append(int(float(temps[11])*37000000000))\n",
    "            \n",
    "print(Z)"
   ]
  },
  {
   "cell_type": "code",
   "execution_count": 39,
   "metadata": {},
   "outputs": [],
   "source": [
    "#预测数据\n",
    "Point1=[90,110]#预测场左上角坐标\n",
    "Point2=[110,90]#预测场右下角坐标\n",
    "X_interval=0.3\n",
    "Y_interval=-0.3\n",
    "X_p = []\n",
    "Y_p = []\n",
    "X_start=Point1[0]-X_interval\n",
    "Y_start=Point1[1]-Y_interval\n",
    "while abs(Point2[0] -X_start)>=abs(X_interval)or abs(Point2[1]-Y_start)>=abs(Y_interval):\n",
    "    X_start=Point1[0]-X_interval\n",
    "    Y_start+=Y_interval\n",
    "    while abs(Point2[0] -X_start)>=abs(X_interval):\n",
    "        X_start+=X_interval\n",
    "        X_p.append(X_start)\n",
    "        Y_p.append(Y_start)\n",
    "#print(X_p)\n",
    "#print(Y_p)\n",
    "#print(len(X_p))\n",
    "#print(len(Y_p))"
   ]
  },
  {
   "cell_type": "code",
   "execution_count": 40,
   "metadata": {
    "scrolled": true
   },
   "outputs": [],
   "source": [
    "X_pred = scale(np.array(X_p))\n",
    "Y_pred = scale(np.array(Y_p))\n",
    "X_pred_ = np.array([X_pred,Y_pred])\n",
    "X = scale(np.array(X))\n",
    "Y = scale(np.array(Y))\n",
    "X_ = np.array([X,Y])\n",
    "Y_ = scale(np.array(Z))"
   ]
  },
  {
   "cell_type": "code",
   "execution_count": 53,
   "metadata": {},
   "outputs": [
    {
     "name": "stdout",
     "output_type": "stream",
     "text": [
      "[[95.09999999999995, 97.40000000000012, 2.60603425680862], [101.69999999999989, 105.50000000000004, 2.0489200723332877]]\n"
     ]
    },
    {
     "name": "stderr",
     "output_type": "stream",
     "text": [
      "/Library/Frameworks/Python.framework/Versions/3.7/lib/python3.7/site-packages/sklearn/utils/validation.py:724: DataConversionWarning: A column-vector y was passed when a 1d array was expected. Please change the shape of y to (n_samples, ), for example using ravel().\n",
      "  y = column_or_1d(y, warn=True)\n"
     ]
    }
   ],
   "source": [
    "from sklearn.svm import SVR\n",
    "#注意，C的值很关键，没有1000不出三个点\n",
    "clf = SVR(C=100, cache_size=200, coef0=0.0, degree=3, epsilon=0.1,\n",
    "    gamma='auto_deprecated', kernel='rbf', max_iter=-1, shrinking=True,\n",
    "    tol=0.001, verbose=False)\n",
    "\n",
    "clf.fit(X_.T, Y_.reshape((-1,1))) \n",
    "Y_pred = clf.predict(X_pred_.T)\n",
    "\n",
    "ans=[]\n",
    "predict=[]\n",
    "xLength=int(abs(Point2[0]-Point1[0])/abs(X_interval))\n",
    "yLength=int(abs(Point2[1]-Point1[1])/abs(Y_interval))\n",
    "i=0\n",
    "while i <len(X_p):\n",
    "    j=0\n",
    "    res=[]\n",
    "    while j<=xLength:\n",
    "        r=[X_p[i],Y_p[i],Y_pred[i]]\n",
    "        res.append(r)\n",
    "        i+=1\n",
    "        j+=1\n",
    "    ans.append(res)\n",
    "#print(ans) \n",
    "res=[]\n",
    "i=1\n",
    "while i<yLength:\n",
    "    j=1\n",
    "    while j<xLength:\n",
    "        if ans[i][j][2]>ans[i-1][j][2] and ans[i][j][2]>ans[i+1][j][2] and ans[i][j][2]>ans[i][j-1][2] \\\n",
    "           and ans[i][j][2]>ans[i][j+1][2] and ans[i][j][2]>ans[i-1][j-1][2] and ans[i][j][2]>ans[i-1][j+1][2] \\\n",
    "            and ans[i][j][2]>ans[i+1][j-1][2] and ans[i][j][2]>ans[i+1][j+1][2]:\n",
    "            res.append(ans[i][j])\n",
    "        j+=1\n",
    "    i+=1\n",
    "res.sort(key=lambda k:k[2],reverse = True)\n",
    "print(res[:4])"
   ]
  },
  {
   "cell_type": "code",
   "execution_count": 54,
   "metadata": {},
   "outputs": [],
   "source": [
    "ax = plt.figure().add_subplot(111, projection = '3d')  \n",
    "ax.scatter(X_pred_[0], X_pred_[1], Y_pred, c = 'b', marker = 'o') #点为红色三角形  \n",
    "ax.set_xlabel('X Label')  \n",
    "ax.set_ylabel('Y Label')  \n",
    "ax.set_zlabel('Z Label')  \n",
    "plt.show()"
   ]
  },
  {
   "cell_type": "code",
   "execution_count": 20,
   "metadata": {},
   "outputs": [],
   "source": [
    "ax = plt.figure().add_subplot(111, projection = '3d')  \n",
    "ax.scatter(X_[0], X_[1], Y_, c = 'b', marker = 'o') #点为红色三角形  \n",
    "ax.set_xlabel('X Label')  \n",
    "ax.set_ylabel('Y Label')  \n",
    "ax.set_zlabel('Z Label')  \n",
    "plt.show()"
   ]
  }
 ],
 "metadata": {
  "anaconda-cloud": {},
  "kernelspec": {
   "display_name": "Python 3",
   "language": "python",
   "name": "python3"
  },
  "language_info": {
   "codemirror_mode": {
    "name": "ipython",
    "version": 3
   },
   "file_extension": ".py",
   "mimetype": "text/x-python",
   "name": "python",
   "nbconvert_exporter": "python",
   "pygments_lexer": "ipython3",
   "version": "3.7.1rc2"
  }
 },
 "nbformat": 4,
 "nbformat_minor": 1
}
