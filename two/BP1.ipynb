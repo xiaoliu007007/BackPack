{
 "cells": [
  {
   "cell_type": "code",
   "execution_count": 14,
   "metadata": {},
   "outputs": [],
   "source": [
    "#BP神经网络\n",
    "%matplotlib qt5\n",
    "import os\n",
    "import numpy as np\n",
    "import matplotlib.pyplot as plt\n",
    "from keras.models import Sequential\n",
    "from keras.layers import Dense\n",
    "from keras.callbacks import Callback\n",
    "from sklearn.preprocessing import scale\n",
    "import matplotlib.pyplot as plt  \n",
    "from mpl_toolkits.mplot3d import Axes3D  "
   ]
  },
  {
   "cell_type": "code",
   "execution_count": 15,
   "metadata": {
    "scrolled": false
   },
   "outputs": [],
   "source": [
    "#训练数据\n",
    "X = []\n",
    "Y = []\n",
    "Z = []\n",
    "path = '/Users/liuyingjie/Downloads/data/two/02/'\n",
    "filenames = os.listdir(path)\n",
    "indexs = []\n",
    "for filename in filenames:\n",
    "    if filename.startswith(\".\"):\n",
    "        continue\n",
    "    indexs.append(int(filename))\n",
    "indexs.sort()\n",
    "for index in indexs:\n",
    "    file_path = path + str(index)\n",
    "    with open(file_path,'r',encoding='utf8') as f:\n",
    "        lines=f.readlines()\n",
    "    for num in range(102, 122):\n",
    "        temps = lines[num].split()\n",
    "        X.append(float(temps[2])/100)\n",
    "        Y.append(float(temps[3])/100)\n",
    "    for line in lines:\n",
    "        temps = line.split()\n",
    "        size = len(temps)\n",
    "        if(size == 11 and temps[0]=='10000000'):\n",
    "            Z.append(int(float(temps[1])*37000000000))\n",
    "            Z.append(int(float(temps[6])*37000000000))\n",
    "        if(size == 16 and temps[0] == '10000000'):\n",
    "            Z.append(int(float(temps[1])*37000000000))\n",
    "            Z.append(int(float(temps[6])*37000000000))\n",
    "            Z.append(int(float(temps[11])*37000000000))\n",
    "            \n",
    "#print(X,Y,Z)       "
   ]
  },
  {
   "cell_type": "code",
   "execution_count": 16,
   "metadata": {},
   "outputs": [
    {
     "data": {
      "text/plain": [
       "(3, 80)"
      ]
     },
     "execution_count": 16,
     "metadata": {},
     "output_type": "execute_result"
    }
   ],
   "source": [
    "ax = plt.figure().add_subplot(111, projection = '3d')  \n",
    "ax.scatter(X,Y,Z, c = 'b', marker = '.') #点为红色三角形   \n",
    "ax.set_xlabel('X Label')  \n",
    "ax.set_ylabel('Y Label')  \n",
    "ax.set_zlabel('Z Label')  \n",
    "plt.show()\n",
    "X_.shape"
   ]
  },
  {
   "cell_type": "code",
   "execution_count": 7,
   "metadata": {},
   "outputs": [
    {
     "name": "stdout",
     "output_type": "stream",
     "text": [
      "[90.0, 91.0, 92.0, 93.0, 94.0, 95.0, 96.0, 97.0, 98.0, 99.0, 100.0, 101.0, 102.0, 103.0, 104.0, 105.0, 106.0, 107.0, 108.0, 109.0, 89.0, 89.0, 89.0, 89.0, 89.0, 89.0, 89.0, 89.0, 89.0, 89.0, 89.0, 89.0, 89.0, 89.0, 89.0, 89.0, 89.0, 89.0, 89.0, 89.0, 91.0, 92.0, 93.0, 94.0, 95.0, 96.0, 97.0, 98.0, 99.0, 100.0, 101.0, 102.0, 103.0, 104.0, 105.0, 106.0, 107.0, 108.0, 109.0, 110.0, 111.0, 111.0, 111.0, 111.0, 111.0, 111.0, 111.0, 111.0, 111.0, 111.0, 111.0, 111.0, 111.0, 111.0, 111.0, 111.0, 111.0, 111.0, 111.0, 111.0] [89.0, 89.0, 89.0, 89.0, 89.0, 89.0, 89.0, 89.0, 89.0, 89.0, 89.0, 89.0, 89.0, 89.0, 89.0, 89.0, 89.0, 89.0, 89.0, 89.0, 91.0, 92.0, 93.0, 94.0, 95.0, 96.0, 97.0, 98.0, 99.0, 100.0, 101.0, 102.0, 103.0, 104.0, 105.0, 106.0, 107.0, 108.0, 109.0, 110.0, 111.0, 111.0, 111.0, 111.0, 111.0, 111.0, 111.0, 111.0, 111.0, 111.0, 111.0, 111.0, 111.0, 111.0, 111.0, 111.0, 111.0, 111.0, 111.0, 111.0, 109.0, 108.0, 107.0, 106.0, 105.0, 104.0, 103.0, 102.0, 101.0, 100.0, 99.0, 98.0, 97.0, 96.0, 95.0, 94.0, 93.0, 92.0, 91.0, 90.0] [3214, 3553, 3879, 4141, 4210, 4163, 3991, 3717, 3422, 3084, 2804, 2522, 2547, 2085, 1902, 1738, 1610, 1472, 1372, 1269, 4074, 4899, 5837, 6815, 7589, 7945, 7707, 7016, 6185, 5278, 4540, 3926, 3435, 3049, 2739, 2486, 2257, 2064, 1892, 1740, 1921, 2108, 2326, 2597, 2890, 3256, 3737, 4175, 4678, 5160, 5483, 5729, 5420, 5012, 4485, 3914, 3374, 2913, 2505, 2162, 2235, 2398, 2546, 2648, 2687, 2681, 2632, 2539, 2409, 2270, 2136, 2002, 1864, 1767, 1620, 1513, 1414, 1321, 1239, 1157]\n"
     ]
    }
   ],
   "source": [
    "#预测数据\n",
    "X1 = []\n",
    "Y1 = []\n",
    "Z1 = []\n",
    "path = '/Users/liuyingjie/Downloads/data/two/12/'\n",
    "filenames = os.listdir(path)\n",
    "indexs = []\n",
    "for filename in filenames:\n",
    "    if filename.startswith(\".\"):\n",
    "        continue\n",
    "    indexs.append(int(filename))\n",
    "indexs.sort()\n",
    "for index in indexs:\n",
    "    file_path = path + str(index)\n",
    "    with open(file_path,'r',encoding='utf8') as f:\n",
    "        lines=f.readlines()\n",
    "    for num in range(102, 122):\n",
    "        temps = lines[num].split()\n",
    "        X1.append(float(temps[2])/100)\n",
    "        Y1.append(float(temps[3])/100)\n",
    "    for line in lines:\n",
    "        temps = line.split()\n",
    "        size = len(temps)\n",
    "        if(size == 11 and temps[0]=='10000000'):\n",
    "            Z1.append(int(float(temps[1])*37000000000))\n",
    "            Z1.append(int(float(temps[6])*37000000000))\n",
    "        if(size == 16 and temps[0] == '10000000'):\n",
    "            Z1.append(int(float(temps[1])*37000000000))\n",
    "            Z1.append(int(float(temps[6])*37000000000))\n",
    "            Z1.append(int(float(temps[11])*37000000000))\n",
    "            \n",
    "#print(X1,Y1,Z1)       "
   ]
  },
  {
   "cell_type": "code",
   "execution_count": 10,
   "metadata": {},
   "outputs": [],
   "source": [
    "X = scale(np.array(X))\n",
    "Y = scale(np.array(Y))\n",
    "Z = scale(np.array(Z))\n",
    "X_ = np.array([X,Y,Z])\n",
    "\n",
    "res=[94,96,102,105]\n",
    "Y_ = np.array(res)\n",
    "#print(Y_)\n",
    "X_pred = scale(np.array(X1))\n",
    "Y_pred = scale(np.array(Y1))\n",
    "Z_pred = scale(np.array(Y1))\n",
    "X_pred_ = np.array([X_pred,Y_pred,Z_pred])"
   ]
  },
  {
   "cell_type": "code",
   "execution_count": 13,
   "metadata": {},
   "outputs": [
    {
     "ename": "ValueError",
     "evalue": "Input arrays should have the same number of samples as target arrays. Found 80 input samples and 4 target samples.",
     "output_type": "error",
     "traceback": [
      "\u001b[0;31m---------------------------------------------------------------------------\u001b[0m",
      "\u001b[0;31mValueError\u001b[0m                                Traceback (most recent call last)",
      "\u001b[0;32m<ipython-input-13-7bd5e95568fe>\u001b[0m in \u001b[0;36m<module>\u001b[0;34m\u001b[0m\n\u001b[1;32m     13\u001b[0m               \u001b[0moptimizer\u001b[0m\u001b[0;34m=\u001b[0m\u001b[0;34m'Adam'\u001b[0m\u001b[0;34m,\u001b[0m \u001b[0;31m#Adam\u001b[0m\u001b[0;34m\u001b[0m\u001b[0;34m\u001b[0m\u001b[0m\n\u001b[1;32m     14\u001b[0m               metrics=['mae'])\n\u001b[0;32m---> 15\u001b[0;31m \u001b[0mmodel\u001b[0m\u001b[0;34m.\u001b[0m\u001b[0mfit\u001b[0m\u001b[0;34m(\u001b[0m\u001b[0mX_\u001b[0m\u001b[0;34m.\u001b[0m\u001b[0mT\u001b[0m\u001b[0;34m,\u001b[0m \u001b[0mY_\u001b[0m\u001b[0;34m.\u001b[0m\u001b[0mreshape\u001b[0m\u001b[0;34m(\u001b[0m\u001b[0;34m(\u001b[0m\u001b[0;34m-\u001b[0m\u001b[0;36m1\u001b[0m\u001b[0;34m,\u001b[0m\u001b[0;36m1\u001b[0m\u001b[0;34m)\u001b[0m\u001b[0;34m)\u001b[0m\u001b[0;34m,\u001b[0m \u001b[0mepochs\u001b[0m \u001b[0;34m=\u001b[0m \u001b[0;36m100\u001b[0m\u001b[0;34m,\u001b[0m \u001b[0mbatch_size\u001b[0m \u001b[0;34m=\u001b[0m\u001b[0;36m20\u001b[0m\u001b[0;34m,\u001b[0m \u001b[0mshuffle\u001b[0m\u001b[0;34m=\u001b[0m\u001b[0;32mTrue\u001b[0m\u001b[0;34m,\u001b[0m \u001b[0mverbose\u001b[0m \u001b[0;34m=\u001b[0m \u001b[0;36m0\u001b[0m\u001b[0;34m)\u001b[0m\u001b[0;34m\u001b[0m\u001b[0;34m\u001b[0m\u001b[0m\n\u001b[0m\u001b[1;32m     16\u001b[0m \u001b[0mY_pred\u001b[0m \u001b[0;34m=\u001b[0m \u001b[0mmodel\u001b[0m\u001b[0;34m.\u001b[0m\u001b[0mpredict\u001b[0m\u001b[0;34m(\u001b[0m\u001b[0mX_pred_\u001b[0m\u001b[0;34m.\u001b[0m\u001b[0mT\u001b[0m\u001b[0;34m)\u001b[0m\u001b[0;34m\u001b[0m\u001b[0;34m\u001b[0m\u001b[0m\n\u001b[1;32m     17\u001b[0m \u001b[0mprint\u001b[0m\u001b[0;34m(\u001b[0m\u001b[0mY_pred\u001b[0m\u001b[0;34m)\u001b[0m\u001b[0;34m\u001b[0m\u001b[0;34m\u001b[0m\u001b[0m\n",
      "\u001b[0;32m/Library/Frameworks/Python.framework/Versions/3.7/lib/python3.7/site-packages/keras/engine/training.py\u001b[0m in \u001b[0;36mfit\u001b[0;34m(self, x, y, batch_size, epochs, verbose, callbacks, validation_split, validation_data, shuffle, class_weight, sample_weight, initial_epoch, steps_per_epoch, validation_steps, **kwargs)\u001b[0m\n\u001b[1;32m    950\u001b[0m             \u001b[0msample_weight\u001b[0m\u001b[0;34m=\u001b[0m\u001b[0msample_weight\u001b[0m\u001b[0;34m,\u001b[0m\u001b[0;34m\u001b[0m\u001b[0;34m\u001b[0m\u001b[0m\n\u001b[1;32m    951\u001b[0m             \u001b[0mclass_weight\u001b[0m\u001b[0;34m=\u001b[0m\u001b[0mclass_weight\u001b[0m\u001b[0;34m,\u001b[0m\u001b[0;34m\u001b[0m\u001b[0;34m\u001b[0m\u001b[0m\n\u001b[0;32m--> 952\u001b[0;31m             batch_size=batch_size)\n\u001b[0m\u001b[1;32m    953\u001b[0m         \u001b[0;31m# Prepare validation data.\u001b[0m\u001b[0;34m\u001b[0m\u001b[0;34m\u001b[0m\u001b[0;34m\u001b[0m\u001b[0m\n\u001b[1;32m    954\u001b[0m         \u001b[0mdo_validation\u001b[0m \u001b[0;34m=\u001b[0m \u001b[0;32mFalse\u001b[0m\u001b[0;34m\u001b[0m\u001b[0;34m\u001b[0m\u001b[0m\n",
      "\u001b[0;32m/Library/Frameworks/Python.framework/Versions/3.7/lib/python3.7/site-packages/keras/engine/training.py\u001b[0m in \u001b[0;36m_standardize_user_data\u001b[0;34m(self, x, y, sample_weight, class_weight, check_array_lengths, batch_size)\u001b[0m\n\u001b[1;32m    802\u001b[0m             ]\n\u001b[1;32m    803\u001b[0m             \u001b[0;31m# Check that all arrays have the same length.\u001b[0m\u001b[0;34m\u001b[0m\u001b[0;34m\u001b[0m\u001b[0;34m\u001b[0m\u001b[0m\n\u001b[0;32m--> 804\u001b[0;31m             \u001b[0mcheck_array_length_consistency\u001b[0m\u001b[0;34m(\u001b[0m\u001b[0mx\u001b[0m\u001b[0;34m,\u001b[0m \u001b[0my\u001b[0m\u001b[0;34m,\u001b[0m \u001b[0msample_weights\u001b[0m\u001b[0;34m)\u001b[0m\u001b[0;34m\u001b[0m\u001b[0;34m\u001b[0m\u001b[0m\n\u001b[0m\u001b[1;32m    805\u001b[0m             \u001b[0;32mif\u001b[0m \u001b[0mself\u001b[0m\u001b[0;34m.\u001b[0m\u001b[0m_is_graph_network\u001b[0m\u001b[0;34m:\u001b[0m\u001b[0;34m\u001b[0m\u001b[0;34m\u001b[0m\u001b[0m\n\u001b[1;32m    806\u001b[0m                 \u001b[0;31m# Additional checks to avoid users mistakenly\u001b[0m\u001b[0;34m\u001b[0m\u001b[0;34m\u001b[0m\u001b[0;34m\u001b[0m\u001b[0m\n",
      "\u001b[0;32m/Library/Frameworks/Python.framework/Versions/3.7/lib/python3.7/site-packages/keras/engine/training_utils.py\u001b[0m in \u001b[0;36mcheck_array_length_consistency\u001b[0;34m(inputs, targets, weights)\u001b[0m\n\u001b[1;32m    235\u001b[0m                          \u001b[0;34m'the same number of samples as target arrays. '\u001b[0m\u001b[0;34m\u001b[0m\u001b[0;34m\u001b[0m\u001b[0m\n\u001b[1;32m    236\u001b[0m                          \u001b[0;34m'Found '\u001b[0m \u001b[0;34m+\u001b[0m \u001b[0mstr\u001b[0m\u001b[0;34m(\u001b[0m\u001b[0mlist\u001b[0m\u001b[0;34m(\u001b[0m\u001b[0mset_x\u001b[0m\u001b[0;34m)\u001b[0m\u001b[0;34m[\u001b[0m\u001b[0;36m0\u001b[0m\u001b[0;34m]\u001b[0m\u001b[0;34m)\u001b[0m \u001b[0;34m+\u001b[0m \u001b[0;34m' input samples '\u001b[0m\u001b[0;34m\u001b[0m\u001b[0;34m\u001b[0m\u001b[0m\n\u001b[0;32m--> 237\u001b[0;31m                          'and ' + str(list(set_y)[0]) + ' target samples.')\n\u001b[0m\u001b[1;32m    238\u001b[0m     \u001b[0;32mif\u001b[0m \u001b[0mlen\u001b[0m\u001b[0;34m(\u001b[0m\u001b[0mset_w\u001b[0m\u001b[0;34m)\u001b[0m \u001b[0;34m>\u001b[0m \u001b[0;36m1\u001b[0m\u001b[0;34m:\u001b[0m\u001b[0;34m\u001b[0m\u001b[0;34m\u001b[0m\u001b[0m\n\u001b[1;32m    239\u001b[0m         raise ValueError('All sample_weight arrays should have '\n",
      "\u001b[0;31mValueError\u001b[0m: Input arrays should have the same number of samples as target arrays. Found 80 input samples and 4 target samples."
     ]
    }
   ],
   "source": [
    "from keras.layers import Dense, Activation\n",
    "from keras.layers import LeakyReLU,PReLU,ELU\n",
    "model = Sequential()\n",
    "model.add(Dense(units = 128, input_dim = 3))\n",
    "model.add(Activation(\"tanh\"))\n",
    "model.add(Dense(units = 128))\n",
    "model.add(Activation(\"tanh\"))\n",
    "model.add(Dense(units = 128))\n",
    "model.add(Activation(\"tanh\"))\n",
    "model.add(Dense(units = 1))\n",
    "model.add(Activation(\"linear\"))\n",
    "model.compile(loss='mean_squared_error', \n",
    "              optimizer='Adam', #Adam\n",
    "              metrics=['mae'])\n",
    "model.fit(X_.T, Y_.reshape((-1,1)), epochs = 100, batch_size =20, shuffle=True, verbose = 0)\n",
    "Y_pred = model.predict(X_pred_.T)\n",
    "print(Y_pred)\n",
    "\"\"\"\n",
    "max,ans=-123456,0\n",
    "for i in range(len(Y_pred)):\n",
    "    if Y_pred[i]>max:\n",
    "        ans=i\n",
    "        max=Y_pred[i]\n",
    "print(X_p[ans])\n",
    "print(Y_p[ans])\n",
    "\"\"\""
   ]
  },
  {
   "cell_type": "code",
   "execution_count": 19,
   "metadata": {},
   "outputs": [],
   "source": [
    "#预测数据\n",
    "Point1=[90,110]#预测场左上角坐标\n",
    "Point2=[110,90]#预测场右下角坐标\n",
    "X_interval=1.0\n",
    "Y_interval=-1.0\n",
    "X_p = []\n",
    "Y_p = []\n",
    "X_start=Point1[0]-X_interval\n",
    "Y_start=Point1[1]-Y_interval\n",
    "while abs(Point2[0] -X_start)>=abs(X_interval)or abs(Point2[1]-Y_start)>=abs(Y_interval):\n",
    "    X_start=Point1[0]-X_interval\n",
    "    Y_start+=Y_interval\n",
    "    while abs(Point2[0] -X_start)>=abs(X_interval):\n",
    "        X_start+=X_interval\n",
    "        X_p.append(X_start)\n",
    "        Y_p.append(Y_start)\n",
    "#print(X_p)\n",
    "#print(Y_p)\n",
    "#print(len(X_p))\n",
    "#print(len(Y_p))"
   ]
  },
  {
   "cell_type": "code",
   "execution_count": 20,
   "metadata": {
    "scrolled": true
   },
   "outputs": [],
   "source": [
    "X_pred = scale(np.array(X_p))\n",
    "Y_pred = scale(np.array(Y_p))\n",
    "X_pred_ = np.array([X_pred,Y_pred])"
   ]
  },
  {
   "cell_type": "code",
   "execution_count": 21,
   "metadata": {},
   "outputs": [],
   "source": [
    "X = scale(np.array(X))\n",
    "Y = scale(np.array(Y))\n",
    "X_ = np.array([X,Y])"
   ]
  },
  {
   "cell_type": "code",
   "execution_count": 22,
   "metadata": {},
   "outputs": [],
   "source": [
    "Y_ = scale(np.array(Z))\n",
    "# X = [98+i/12 for i in range(48)]\n",
    "# Y = [98+i/12 for i in range(48)]\n",
    "# X, Y = np.meshgrid(X,Y)\n",
    "# X = X.reshape(2304,)\n",
    "# Y = Y.reshape(2304,)\n",
    "# X = np.array(X)\n",
    "# Y = np.array(Y)\n",
    "# Y_ = [1/((X[i]-99.8)**2+(Y[i]-99.8)**2+.5) for i in range(2304)]\n",
    "# Y_ = np.array(Y_)\n",
    "# X = scale(X)\n",
    "# Y = scale(Y)\n",
    "# X_ = np.array([X,Y])\n",
    "#print(Y_)\n",
    "ax = plt.figure().add_subplot(111, projection = '3d')  \n",
    "ax.scatter(X_[0], X_[1], Y_, c = 'b', marker = '.') #点为红色三角形   \n",
    "ax.set_xlabel('X Label')  \n",
    "ax.set_ylabel('Y Label')  \n",
    "ax.set_zlabel('Z Label')  \n",
    "plt.show()"
   ]
  },
  {
   "cell_type": "code",
   "execution_count": 23,
   "metadata": {
    "scrolled": true
   },
   "outputs": [
    {
     "data": {
      "text/plain": [
       "(2, 160)"
      ]
     },
     "execution_count": 23,
     "metadata": {},
     "output_type": "execute_result"
    }
   ],
   "source": [
    "X_.shape"
   ]
  },
  {
   "cell_type": "code",
   "execution_count": 43,
   "metadata": {
    "scrolled": true
   },
   "outputs": [
    {
     "name": "stdout",
     "output_type": "stream",
     "text": [
      "97.0\n",
      "97.0\n"
     ]
    }
   ],
   "source": [
    "from keras.layers import Dense, Activation\n",
    "from keras.layers import LeakyReLU,PReLU,ELU\n",
    "model = Sequential()\n",
    "model.add(Dense(units = 128, input_dim = 2))\n",
    "model.add(Activation(\"tanh\"))\n",
    "model.add(Dense(units = 128))\n",
    "model.add(Activation(\"tanh\"))\n",
    "model.add(Dense(units = 128))\n",
    "model.add(Activation(\"tanh\"))\n",
    "model.add(Dense(units = 1))\n",
    "model.add(Activation(\"linear\"))\n",
    "model.compile(loss='mean_squared_error', \n",
    "              optimizer='Adam', #Adam\n",
    "              metrics=['mae'])\n",
    "model.fit(X_.T, Y_.reshape((-1,1)), epochs = 100, batch_size =20, shuffle=True, verbose = 0)\n",
    "Y_pred = model.predict(X_pred_.T)\n",
    "max,ans=-123456,0\n",
    "for i in range(len(Y_pred)):\n",
    "    if Y_pred[i]>max:\n",
    "        ans=i\n",
    "        max=Y_pred[i]\n",
    "print(X_p[ans])\n",
    "print(Y_p[ans])"
   ]
  },
  {
   "cell_type": "code",
   "execution_count": 34,
   "metadata": {},
   "outputs": [],
   "source": [
    "ax = plt.figure().add_subplot(111, projection = '3d')  \n",
    "ax.scatter(X_pred_[0], X_pred_[1], Y_pred, c = 'b', marker = 'o') #点为红色三角形  \n",
    "ax.set_xlabel('X Label')  \n",
    "ax.set_ylabel('Y Label')  \n",
    "ax.set_zlabel('Z Label')  \n",
    "plt.show()"
   ]
  },
  {
   "cell_type": "code",
   "execution_count": 129,
   "metadata": {
    "scrolled": false
   },
   "outputs": [
    {
     "data": {
      "text/plain": [
       "<keras.callbacks.History at 0x151d9ff60>"
      ]
     },
     "execution_count": 129,
     "metadata": {},
     "output_type": "execute_result"
    }
   ],
   "source": [
    "from keras.layers import Dense, Activation\n",
    "from keras.layers import LeakyReLU,PReLU,ELU\n",
    "import datetime\n",
    "#start = datetime.datetime.now()\n",
    "#构建神经网络模型\n",
    "model = Sequential()\n",
    "model.add(Dense(units = 128, input_dim = 2))\n",
    "#model.add(PReLU(alpha_initializer='zeros'))\n",
    "model.add(Activation(\"tanh\"))\n",
    "model.add(Dense(units = 128))\n",
    "model.add(Activation(\"tanh\"))\n",
    "model.add(Dense(units = 128))\n",
    "model.add(Activation(\"tanh\"))\n",
    "model.add(Dense(units = 1))\n",
    "model.add(Activation(\"linear\"))\n",
    "#构建编译模型\n",
    "model.compile(loss='mean_squared_error', \n",
    "              optimizer='Adam', #Adam\n",
    "              metrics=['mae'])\n",
    "\n",
    "#训练\n",
    "model.fit(X_.T, Y_.reshape((-1,1)), epochs = 100, batch_size =20, shuffle=True, verbose = 0)\n",
    "#Y_pred = model.predict(X_pred_.T)\n",
    "#end = datetime.datetime.now()\n",
    "#print(end - start)"
   ]
  },
  {
   "cell_type": "code",
   "execution_count": 130,
   "metadata": {
    "scrolled": false
   },
   "outputs": [
    {
     "name": "stdout",
     "output_type": "stream",
     "text": [
      "240/240 [==============================] - 0s 1ms/step\n"
     ]
    },
    {
     "data": {
      "text/plain": [
       "[0.03139902806530396, 0.14423055574297905]"
      ]
     },
     "execution_count": 130,
     "metadata": {},
     "output_type": "execute_result"
    }
   ],
   "source": [
    "# 模型评估\n",
    "loss_and_metrics = model.evaluate(X_.T, Y_, batch_size=100)\n",
    "loss_and_metrics"
   ]
  },
  {
   "cell_type": "code",
   "execution_count": 131,
   "metadata": {
    "scrolled": true
   },
   "outputs": [],
   "source": [
    "#预测\n",
    "Y_pred = model.predict(X_pred_.T)"
   ]
  },
  {
   "cell_type": "code",
   "execution_count": 10,
   "metadata": {
    "scrolled": false
   },
   "outputs": [],
   "source": [
    "ax = plt.figure().add_subplot(111, projection = '3d')  \n",
    "ax.scatter(X_pred_[0], X_pred_[1], Y_pred, c = 'b', marker = 'o') #点为红色三角形  \n",
    "ax.set_xlabel('X Label')  \n",
    "ax.set_ylabel('Y Label')  \n",
    "ax.set_zlabel('Z Label')  \n",
    "plt.show()"
   ]
  },
  {
   "cell_type": "code",
   "execution_count": 11,
   "metadata": {},
   "outputs": [
    {
     "name": "stdout",
     "output_type": "stream",
     "text": [
      "99.8999999999999\n",
      "99.8000000000001\n"
     ]
    }
   ],
   "source": [
    "max=-123456\n",
    "ans=0\n",
    "for i in range(len(Y_pred)):\n",
    "    if Y_pred[i]>max:\n",
    "        ans=i\n",
    "        max=Y_pred[i]\n",
    "print(X_p[ans])\n",
    "print(Y_p[ans])"
   ]
  }
 ],
 "metadata": {
  "anaconda-cloud": {},
  "kernelspec": {
   "display_name": "Python 3",
   "language": "python",
   "name": "python3"
  },
  "language_info": {
   "codemirror_mode": {
    "name": "ipython",
    "version": 3
   },
   "file_extension": ".py",
   "mimetype": "text/x-python",
   "name": "python",
   "nbconvert_exporter": "python",
   "pygments_lexer": "ipython3",
   "version": "3.7.1rc2"
  }
 },
 "nbformat": 4,
 "nbformat_minor": 1
}
