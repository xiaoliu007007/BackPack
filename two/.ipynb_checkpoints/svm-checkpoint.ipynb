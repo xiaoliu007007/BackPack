{
 "cells": [
  {
   "cell_type": "code",
   "execution_count": 2,
   "metadata": {
    "scrolled": true
   },
   "outputs": [],
   "source": [
    "#BP神经网络\n",
    "%matplotlib qt5\n",
    "import os\n",
    "import numpy as np\n",
    "import matplotlib.pyplot as plt\n",
    "from keras.models import Sequential\n",
    "from keras.layers import Dense\n",
    "from keras.callbacks import Callback\n",
    "from sklearn.preprocessing import scale\n",
    "import matplotlib.pyplot as plt  \n",
    "from mpl_toolkits.mplot3d import Axes3D  "
   ]
  },
  {
   "cell_type": "code",
   "execution_count": 3,
   "metadata": {
    "scrolled": false
   },
   "outputs": [],
   "source": [
    "#训练数据\n",
    "X = []\n",
    "Y = []\n",
    "Z = []\n",
    "path = '/Users/liuyingjie/Downloads/data/two/03/'\n",
    "filenames = os.listdir(path)\n",
    "indexs = []\n",
    "for filename in filenames:\n",
    "    if filename.startswith(\".\"):\n",
    "        continue\n",
    "    indexs.append(int(filename))\n",
    "indexs.sort()\n",
    "#print(indexs)\n",
    "for index in indexs:\n",
    "    file_path = path + str(index)\n",
    "    with open(file_path,'r',encoding='utf8') as f:\n",
    "        lines=f.readlines()\n",
    "    for num in range(102, 122):\n",
    "        #print(lines[num])\n",
    "        temps = lines[num].split()\n",
    "        X.append(float(temps[2])/100)\n",
    "        Y.append(float(temps[3])/100)\n",
    "    for line in lines:\n",
    "        temps = line.split()\n",
    "        size = len(temps)\n",
    "        if(size == 11 and temps[0]=='10000000'):\n",
    "            Z.append(int(float(temps[1])*37000000000))\n",
    "            Z.append(int(float(temps[6])*37000000000))\n",
    "        if(size == 16 and temps[0] == '10000000'):\n",
    "            Z.append(int(float(temps[1])*37000000000))\n",
    "            Z.append(int(float(temps[6])*37000000000))\n",
    "            Z.append(int(float(temps[11])*37000000000))\n",
    "            \n",
    "          "
   ]
  },
  {
   "cell_type": "code",
   "execution_count": 4,
   "metadata": {},
   "outputs": [],
   "source": [
    "#预测数据\n",
    "Point1=[90,110]#预测场左上角坐标\n",
    "Point2=[110,90]#预测场右下角坐标\n",
    "X_interval=0.3\n",
    "Y_interval=-0.3\n",
    "X_p = []\n",
    "Y_p = []\n",
    "X_start=Point1[0]-X_interval\n",
    "Y_start=Point1[1]-Y_interval\n",
    "while abs(Point2[0] -X_start)>=abs(X_interval)or abs(Point2[1]-Y_start)>=abs(Y_interval):\n",
    "    X_start=Point1[0]-X_interval\n",
    "    Y_start+=Y_interval\n",
    "    while abs(Point2[0] -X_start)>=abs(X_interval):\n",
    "        X_start+=X_interval\n",
    "        X_p.append(X_start)\n",
    "        Y_p.append(Y_start)\n",
    "#print(X_p)\n",
    "#print(Y_p)\n",
    "#print(len(X_p))\n",
    "#print(len(Y_p))"
   ]
  },
  {
   "cell_type": "code",
   "execution_count": 5,
   "metadata": {
    "scrolled": true
   },
   "outputs": [],
   "source": [
    "X_pred = scale(np.array(X_p))\n",
    "Y_pred = scale(np.array(Y_p))\n",
    "X_pred_ = np.array([X_pred,Y_pred])\n",
    "X = scale(np.array(X))\n",
    "Y = scale(np.array(Y))\n",
    "X_ = np.array([X,Y])\n",
    "Y_ = scale(np.array(Z))"
   ]
  },
  {
   "cell_type": "code",
   "execution_count": 13,
   "metadata": {},
   "outputs": [
    {
     "name": "stdout",
     "output_type": "stream",
     "text": [
      "[[97.19999999999993, 106.40000000000003, 0.3960854559237856], [105.89999999999985, 97.70000000000012, 0.3954984348760176]]\n"
     ]
    },
    {
     "name": "stderr",
     "output_type": "stream",
     "text": [
      "/Library/Frameworks/Python.framework/Versions/3.7/lib/python3.7/site-packages/sklearn/utils/validation.py:724: DataConversionWarning: A column-vector y was passed when a 1d array was expected. Please change the shape of y to (n_samples, ), for example using ravel().\n",
      "  y = column_or_1d(y, warn=True)\n"
     ]
    }
   ],
   "source": [
    "from sklearn.svm import SVR\n",
    "clf = SVR()\n",
    "clf.fit(X_.T, Y_.reshape((-1,1))) \n",
    "Y_pred = clf.predict(X_pred_.T)\n",
    "\n",
    "ans=[]\n",
    "predict=[]\n",
    "xLength=int(abs(Point2[0]-Point1[0])/abs(X_interval))\n",
    "yLength=int(abs(Point2[1]-Point1[1])/abs(Y_interval))\n",
    "i=0\n",
    "while i <len(X_p):\n",
    "    j=0\n",
    "    res=[]\n",
    "    while j<=xLength:\n",
    "        r=[X_p[i],Y_p[i],Y_pred[i]]\n",
    "        res.append(r)\n",
    "        i+=1\n",
    "        j+=1\n",
    "    ans.append(res)\n",
    "#print(ans) \n",
    "res=[]\n",
    "i=1\n",
    "while i<yLength:\n",
    "    j=1\n",
    "    while j<xLength:\n",
    "        if ans[i][j][2]>ans[i-1][j][2] and ans[i][j][2]>ans[i+1][j][2] and ans[i][j][2]>ans[i][j-1][2] \\\n",
    "           and ans[i][j][2]>ans[i][j+1][2] and ans[i][j][2]>ans[i-1][j-1][2] and ans[i][j][2]>ans[i-1][j+1][2] \\\n",
    "            and ans[i][j][2]>ans[i+1][j-1][2] and ans[i][j][2]>ans[i+1][j+1][2]:\n",
    "            res.append(ans[i][j])\n",
    "        j+=1\n",
    "    i+=1\n",
    "res.sort(key=lambda k:k[2],reverse = True)\n",
    "print(res[:2])"
   ]
  }
 ],
 "metadata": {
  "anaconda-cloud": {},
  "kernelspec": {
   "display_name": "Python 3",
   "language": "python",
   "name": "python3"
  },
  "language_info": {
   "codemirror_mode": {
    "name": "ipython",
    "version": 3
   },
   "file_extension": ".py",
   "mimetype": "text/x-python",
   "name": "python",
   "nbconvert_exporter": "python",
   "pygments_lexer": "ipython3",
   "version": "3.7.1rc2"
  }
 },
 "nbformat": 4,
 "nbformat_minor": 1
}
