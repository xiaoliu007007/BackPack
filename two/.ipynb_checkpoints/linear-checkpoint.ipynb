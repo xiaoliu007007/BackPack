{
 "cells": [
  {
   "cell_type": "code",
   "execution_count": 25,
   "metadata": {
    "scrolled": true
   },
   "outputs": [],
   "source": [
    "import numpy as np\n",
    "import matplotlib.pyplot as plt\n",
    "from sklearn import datasets"
   ]
  },
  {
   "cell_type": "code",
   "execution_count": 26,
   "metadata": {
    "scrolled": false
   },
   "outputs": [
    {
     "name": "stdout",
     "output_type": "stream",
     "text": [
      "[[90.0, 90.0, 3922], [91.0, 90.0, 4500], [92.0, 90.0, 5023], [93.0, 90.0, 5444], [94.0, 90.0, 5618], [95.0, 90.0, 5511], [96.0, 90.0, 5160], [97.0, 90.0, 4691], [98.0, 90.0, 4182], [99.0, 90.0, 3692], [100.0, 90.0, 3267], [101.0, 90.0, 2893], [102.0, 90.0, 2594], [103.0, 90.0, 2337], [104.0, 90.0, 2115], [105.0, 90.0, 1915], [106.0, 90.0, 1754], [107.0, 90.0, 1613], [108.0, 90.0, 1474], [109.0, 90.0, 1358], [90.0, 91.0, 4896], [90.0, 92.0, 6213], [90.0, 93.0, 7840], [90.0, 94.0, 9747], [90.0, 95.0, 11440], [90.0, 96.0, 12206], [90.0, 97.0, 11573], [90.0, 98.0, 9985], [90.0, 99.0, 8194], [90.0, 100.0, 6663], [90.0, 101.0, 5477], [90.0, 102.0, 4588], [90.0, 103.0, 3960], [90.0, 104.0, 3456], [90.0, 105.0, 3084], [90.0, 106.0, 2771], [90.0, 107.0, 2509], [90.0, 108.0, 2288], [90.0, 109.0, 2086], [90.0, 110.0, 1907], [91.0, 110.0, 2097], [92.0, 110.0, 2334], [93.0, 110.0, 2598], [94.0, 110.0, 2912], [95.0, 110.0, 3317], [96.0, 110.0, 3811], [97.0, 110.0, 4444], [98.0, 110.0, 5198], [99.0, 110.0, 6076], [100.0, 110.0, 6965], [101.0, 110.0, 7674], [102.0, 110.0, 7920], [103.0, 110.0, 7570], [104.0, 110.0, 6810], [105.0, 110.0, 5849], [106.0, 110.0, 4880], [107.0, 110.0, 4054], [108.0, 110.0, 3376], [109.0, 110.0, 2842], [110.0, 110.0, 2407], [110.0, 109.0, 2656], [110.0, 108.0, 2893], [110.0, 107.0, 3099], [110.0, 106.0, 3247], [110.0, 105.0, 3311], [110.0, 104.0, 3300], [110.0, 103.0, 3217], [110.0, 102.0, 3046], [110.0, 101.0, 2868], [110.0, 100.0, 2669], [110.0, 99.0, 2488], [110.0, 98.0, 2264], [110.0, 97.0, 2106], [110.0, 96.0, 1943], [110.0, 95.0, 1796], [110.0, 94.0, 1677], [110.0, 93.0, 1554], [110.0, 92.0, 1442], [110.0, 91.0, 1357], [110.0, 90.0, 1250]]\n"
     ]
    }
   ],
   "source": [
    "import os\n",
    "num=[]\n",
    "Z = []\n",
    "path = '/Users/liuyingjie/Downloads/data/two/02/'\n",
    "filenames = os.listdir(path)\n",
    "indexs = []\n",
    "for filename in filenames:\n",
    "    if filename.startswith(\".\"):\n",
    "        continue\n",
    "    indexs.append(int(filename))\n",
    "indexs.sort()\n",
    "#print(indexs)\n",
    "for index in indexs:\n",
    "    file_path = path + str(index)\n",
    "    with open(file_path,'r',encoding='utf8') as f:\n",
    "        lines=f.readlines()\n",
    "        #print(lines)\n",
    "    for i in range(102, 122):\n",
    "        temps = lines[i].split()\n",
    "        #print(temps)\n",
    "        point=[]\n",
    "        point.append(float(temps[2])/100)\n",
    "        point.append(float(temps[3])/100)\n",
    "        num.append(point)\n",
    "    for line in lines:\n",
    "        temps = line.split()\n",
    "        size = len(temps)\n",
    "        #print(size)\n",
    "        if(size == 11 and temps[0]=='10000000'):\n",
    "            #print(temps)\n",
    "            Z.append(int(float(temps[1])*37000000000))\n",
    "            Z.append(int(float(temps[6])*37000000000))\n",
    "        if(size == 16 and temps[0] == '10000000'):\n",
    "            #print(temps)\n",
    "            Z.append(int(float(temps[1])*37000000000))\n",
    "            Z.append(int(float(temps[6])*37000000000))\n",
    "            Z.append(int(float(temps[11])*37000000000))\n",
    "            \n",
    "for i in range(len(Z)):\n",
    "    num[i].append(Z[i])\n",
    "print(num)"
   ]
  },
  {
   "cell_type": "code",
   "execution_count": 27,
   "metadata": {},
   "outputs": [
    {
     "data": {
      "text/plain": [
       "[[94.0, 96.0, 17484.27027027027], [102.0, 105.0, 6870.9872000000005]]"
      ]
     },
     "execution_count": 27,
     "metadata": {},
     "output_type": "execute_result"
    }
   ],
   "source": [
    "def predict(num):\n",
    "    num.sort(key=lambda k:k[0]+k[1])\n",
    "    ans=createRegion(num[0],num[len(num)-1],1)\n",
    "    #print(ans)\n",
    "    base1,help1,base2,help2=[],[],[],[]\n",
    "    for n in num:\n",
    "        if n[1]==num[0][1]:\n",
    "            base1.append(n)\n",
    "        if n[1]==num[len(num)-1][1]:\n",
    "            base2.append(n)\n",
    "        if n[0]==num[0][0]:\n",
    "            help1.append(n)\n",
    "        if n[0]==num[len(num)-1][0]:\n",
    "            help2.append(n)\n",
    "    base1.sort(key=lambda k:k[0])\n",
    "    base2.sort(key=lambda k:k[0])\n",
    "    help1.sort(key=lambda k:k[1])\n",
    "    help2.sort(key=lambda k:k[1])\n",
    "    for i in range(len(base1)):\n",
    "        for j in range(len(help1)):\n",
    "            pos=i*len(help1)+j\n",
    "            help3=[] #基准线\n",
    "            if base1[i][0]-help1[0][0]<help2[0][0]-base1[i][0]:\n",
    "                help3=help1\n",
    "            else:\n",
    "                help3=help2\n",
    "            ans[pos].append(base1[i][2]*(help3[j][2]/help3[0][2]))\n",
    "    #ans.sort(key=lambda k:k[2],reverse = True)\n",
    "    base1.sort(key=lambda k:k[2],reverse = True)\n",
    "    base2.sort(key=lambda k:k[2],reverse = True)\n",
    "    help1.sort(key=lambda k:k[2],reverse = True)\n",
    "    help2.sort(key=lambda k:k[2],reverse = True)\n",
    "    x1,x2=base1[0][0],base2[0][0]\n",
    "    y1,y2=help1[0][1],help2[0][1]\n",
    "    res=[]\n",
    "    for n in ans:\n",
    "        if n[0]==x1 and (n[1]==y1 or n[1]==y2):\n",
    "            res.append(n)\n",
    "        if n[0]==x2 and (n[1]==y1 or n[1]==y2):\n",
    "            res.append(n)\n",
    "    res.sort(key=lambda k:k[2],reverse = True)\n",
    "    return res[:2]\n",
    "    #print(ans)\n",
    "    #print(base1)\n",
    "    #print(help1)\n",
    "    #print(base2)\n",
    "    #print(help2)\n",
    "\n",
    "def createRegion(start,end,interval):\n",
    "    ans=[]\n",
    "    pointY,pointX=start[1],start[0]\n",
    "    while pointX<=end[0]:\n",
    "        pointY=start[1]\n",
    "        while pointY<=end[1]:\n",
    "            pointRes=[pointX,pointY]\n",
    "            ans.append(pointRes)\n",
    "            pointY+=interval\n",
    "        pointX+=interval\n",
    "    return ans\n",
    "\n",
    "predict(num)"
   ]
  }
 ],
 "metadata": {
  "anaconda-cloud": {},
  "kernelspec": {
   "display_name": "Python 3",
   "language": "python",
   "name": "python3"
  },
  "language_info": {
   "codemirror_mode": {
    "name": "ipython",
    "version": 3
   },
   "file_extension": ".py",
   "mimetype": "text/x-python",
   "name": "python",
   "nbconvert_exporter": "python",
   "pygments_lexer": "ipython3",
   "version": "3.7.1rc2"
  }
 },
 "nbformat": 4,
 "nbformat_minor": 1
}
