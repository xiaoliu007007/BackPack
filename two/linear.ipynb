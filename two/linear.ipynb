{
 "cells": [
  {
   "cell_type": "code",
   "execution_count": 28,
   "metadata": {
    "scrolled": true
   },
   "outputs": [],
   "source": [
    "import numpy as np\n",
    "import matplotlib.pyplot as plt\n",
    "from sklearn import datasets"
   ]
  },
  {
   "cell_type": "code",
   "execution_count": 29,
   "metadata": {
    "scrolled": false
   },
   "outputs": [
    {
     "name": "stdout",
     "output_type": "stream",
     "text": [
      "[[90.0, 90.0, 1280], [91.0, 90.0, 1391], [92.0, 90.0, 1494], [93.0, 90.0, 1616], [94.0, 90.0, 1749], [95.0, 90.0, 1905], [96.0, 90.0, 2077], [97.0, 90.0, 2304], [98.0, 90.0, 2505], [99.0, 90.0, 2783], [100.0, 90.0, 3068], [101.0, 90.0, 3396], [102.0, 90.0, 3689], [103.0, 90.0, 3963], [104.0, 90.0, 4143], [105.0, 90.0, 4183], [106.0, 90.0, 4084], [107.0, 90.0, 3853], [108.0, 90.0, 3535], [109.0, 90.0, 3176], [90.0, 91.0, 1385], [90.0, 92.0, 1501], [90.0, 93.0, 1633], [90.0, 94.0, 1765], [90.0, 95.0, 1924], [90.0, 96.0, 2105], [90.0, 97.0, 2332], [90.0, 98.0, 2590], [90.0, 99.0, 2884], [90.0, 100.0, 3244], [90.0, 101.0, 3672], [90.0, 102.0, 4148], [90.0, 103.0, 4653], [90.0, 104.0, 5127], [90.0, 105.0, 5461], [90.0, 106.0, 5562], [90.0, 107.0, 5394], [90.0, 108.0, 5003], [90.0, 109.0, 4457], [90.0, 110.0, 3899], [91.0, 110.0, 4854], [92.0, 110.0, 6145], [93.0, 110.0, 7811], [94.0, 110.0, 9695], [95.0, 110.0, 11381], [96.0, 110.0, 12121], [97.0, 110.0, 11483], [98.0, 110.0, 9886], [99.0, 110.0, 8111], [100.0, 110.0, 6527], [101.0, 110.0, 5321], [102.0, 110.0, 4434], [103.0, 110.0, 3766], [104.0, 110.0, 3286], [105.0, 110.0, 2893], [106.0, 110.0, 2592], [107.0, 110.0, 2345], [108.0, 110.0, 2125], [109.0, 110.0, 1947], [110.0, 110.0, 1776], [110.0, 109.0, 1946], [110.0, 108.0, 2120], [110.0, 107.0, 2334], [110.0, 106.0, 2586], [110.0, 105.0, 2908], [110.0, 104.0, 3295], [110.0, 103.0, 3792], [110.0, 102.0, 4405], [110.0, 101.0, 5169], [110.0, 100.0, 6047], [110.0, 99.0, 6931], [110.0, 98.0, 7620], [110.0, 97.0, 7872], [110.0, 96.0, 7535], [110.0, 95.0, 6773], [110.0, 94.0, 5793], [110.0, 93.0, 4860], [110.0, 92.0, 4033], [110.0, 91.0, 3377], [110.0, 90.0, 2810]]\n"
     ]
    }
   ],
   "source": [
    "import os\n",
    "num=[]\n",
    "Z = []\n",
    "path = '/Users/liuyingjie/Downloads/data/two/02/'\n",
    "filenames = os.listdir(path)\n",
    "indexs = []\n",
    "for filename in filenames:\n",
    "    if filename.startswith(\".\"):\n",
    "        continue\n",
    "    indexs.append(int(filename))\n",
    "indexs.sort()\n",
    "#print(indexs)\n",
    "for index in indexs:\n",
    "    file_path = path + str(index)\n",
    "    with open(file_path,'r',encoding='utf8') as f:\n",
    "        lines=f.readlines()\n",
    "        #print(lines)\n",
    "    for i in range(102, 122):\n",
    "        temps = lines[i].split()\n",
    "        #print(temps)\n",
    "        point=[]\n",
    "        point.append(float(temps[2])/100)\n",
    "        point.append(float(temps[3])/100)\n",
    "        num.append(point)\n",
    "    for line in lines:\n",
    "        temps = line.split()\n",
    "        size = len(temps)\n",
    "        #print(size)\n",
    "        if(size == 11 and temps[0]=='10000000'):\n",
    "            #print(temps)\n",
    "            Z.append(int(float(temps[1])*37000000000))\n",
    "            Z.append(int(float(temps[6])*37000000000))\n",
    "        if(size == 16 and temps[0] == '10000000'):\n",
    "            #print(temps)\n",
    "            Z.append(int(float(temps[1])*37000000000))\n",
    "            Z.append(int(float(temps[6])*37000000000))\n",
    "            Z.append(int(float(temps[11])*37000000000))\n",
    "            \n",
    "for i in range(len(Z)):\n",
    "    num[i].append(Z[i])\n",
    "print(num)"
   ]
  },
  {
   "cell_type": "code",
   "execution_count": 30,
   "metadata": {},
   "outputs": [
    {
     "data": {
      "text/plain": [
       "[[105.0, 97.0, 11718.354448398577], [96.0, 106.0, 9025.214062500001]]"
      ]
     },
     "execution_count": 30,
     "metadata": {},
     "output_type": "execute_result"
    }
   ],
   "source": [
    "def predict(num):\n",
    "    num.sort(key=lambda k:k[0]+k[1])\n",
    "    ans=createRegion(num[0],num[len(num)-1],1)\n",
    "    #print(ans)\n",
    "    base1,help1,base2,help2=[],[],[],[]\n",
    "    for n in num:\n",
    "        if n[1]==num[0][1]:\n",
    "            base1.append(n)\n",
    "        if n[1]==num[len(num)-1][1]:\n",
    "            base2.append(n)\n",
    "        if n[0]==num[0][0]:\n",
    "            help1.append(n)\n",
    "        if n[0]==num[len(num)-1][0]:\n",
    "            help2.append(n)\n",
    "    base1.sort(key=lambda k:k[0])\n",
    "    base2.sort(key=lambda k:k[0])\n",
    "    help1.sort(key=lambda k:k[1])\n",
    "    help2.sort(key=lambda k:k[1])\n",
    "    for i in range(len(base1)):\n",
    "        for j in range(len(help1)):\n",
    "            pos=i*len(help1)+j\n",
    "            help3=[] #基准线\n",
    "            if base1[i][0]-help1[0][0]<help2[0][0]-base1[i][0]:\n",
    "                help3=help1\n",
    "            else:\n",
    "                help3=help2\n",
    "            ans[pos].append(base1[i][2]*(help3[j][2]/help3[0][2]))\n",
    "    #ans.sort(key=lambda k:k[2],reverse = True)\n",
    "    base1.sort(key=lambda k:k[2],reverse = True)\n",
    "    base2.sort(key=lambda k:k[2],reverse = True)\n",
    "    help1.sort(key=lambda k:k[2],reverse = True)\n",
    "    help2.sort(key=lambda k:k[2],reverse = True)\n",
    "    x1,x2=base1[0][0],base2[0][0]\n",
    "    y1,y2=help1[0][1],help2[0][1]\n",
    "    res=[]\n",
    "    for n in ans:\n",
    "        if n[0]==x1 and (n[1]==y1 or n[1]==y2):\n",
    "            res.append(n)\n",
    "        if n[0]==x2 and (n[1]==y1 or n[1]==y2):\n",
    "            res.append(n)\n",
    "    res.sort(key=lambda k:k[2],reverse = True)\n",
    "    return res[:2]\n",
    "    #print(ans)\n",
    "    #print(base1)\n",
    "    #print(help1)\n",
    "    #print(base2)\n",
    "    #print(help2)\n",
    "\n",
    "def createRegion(start,end,interval):\n",
    "    ans=[]\n",
    "    pointY,pointX=start[1],start[0]\n",
    "    while pointX<=end[0]:\n",
    "        pointY=start[1]\n",
    "        while pointY<=end[1]:\n",
    "            pointRes=[pointX,pointY]\n",
    "            ans.append(pointRes)\n",
    "            pointY+=interval\n",
    "        pointX+=interval\n",
    "    return ans\n",
    "\n",
    "predict(num)"
   ]
  }
 ],
 "metadata": {
  "anaconda-cloud": {},
  "kernelspec": {
   "display_name": "Python 3",
   "language": "python",
   "name": "python3"
  },
  "language_info": {
   "codemirror_mode": {
    "name": "ipython",
    "version": 3
   },
   "file_extension": ".py",
   "mimetype": "text/x-python",
   "name": "python",
   "nbconvert_exporter": "python",
   "pygments_lexer": "ipython3",
   "version": "3.7.1rc2"
  }
 },
 "nbformat": 4,
 "nbformat_minor": 1
}
