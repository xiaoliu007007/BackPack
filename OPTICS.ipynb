{
 "cells": [
  {
   "cell_type": "code",
   "execution_count": 1,
   "metadata": {
    "scrolled": true
   },
   "outputs": [],
   "source": [
    "import numpy as np\n",
    "import matplotlib.pyplot as plt\n",
    "from sklearn import datasets"
   ]
  },
  {
   "cell_type": "code",
   "execution_count": 2,
   "metadata": {},
   "outputs": [
    {
     "name": "stdout",
     "output_type": "stream",
     "text": [
      "220\n"
     ]
    }
   ],
   "source": [
    "import os\n",
    "num=[]\n",
    "Z = []\n",
    "path = '/Users/liuyingjie/Downloads/data/DBSCAN/'\n",
    "filenames = os.listdir(path)\n",
    "indexs = []\n",
    "for filename in filenames:\n",
    "    if filename.startswith(\".\"):\n",
    "        continue\n",
    "    indexs.append(int(filename))\n",
    "indexs.sort()\n",
    "#print(indexs)\n",
    "for index in indexs:\n",
    "    file_path = path + str(index)\n",
    "    with open(file_path,'r',encoding='utf8') as f:\n",
    "        lines=f.readlines()\n",
    "    for i in range(99, 119):\n",
    "        temps = lines[i].split()\n",
    "        point=[]\n",
    "        point.append(int(temps[2]))\n",
    "        point.append(int(temps[3]))\n",
    "        num.append(point)\n",
    "    for line in lines:\n",
    "        temps = line.split()\n",
    "        size = len(temps)\n",
    "        if(size == 11 and temps[0]=='10000000'):\n",
    "            Z.append(int(float(temps[1])*37000000000))\n",
    "            Z.append(int(float(temps[6])*37000000000))\n",
    "        if(size == 16 and temps[0] == '10000000'):\n",
    "            Z.append(int(float(temps[1])*37000000000))\n",
    "            Z.append(int(float(temps[6])*37000000000))\n",
    "            Z.append(int(float(temps[11])*37000000000))\n",
    "            \n",
    "for i in range(len(Z)):\n",
    "    num[i].append(Z[i])\n",
    "print(len(num))"
   ]
  },
  {
   "cell_type": "code",
   "execution_count": 3,
   "metadata": {},
   "outputs": [],
   "source": [
    "x1=[]\n",
    "x2=[]\n",
    "\n",
    "def getCircle(p1, p2, p3):\n",
    "    circle=[]\n",
    "    x21 = p2[0] - p1[0]\n",
    "    y21 = p2[1] - p1[1]\n",
    "    x32 = p3[0] - p2[0]\n",
    "    y32 = p3[1] - p2[1]\n",
    "    # three colinear\n",
    "    if (x21 * y32 - x32 * y21 == 0 or x21==0):\n",
    "        return None\n",
    "    xy21 = p2[0] * p2[0] - p1[0] * p1[0] + p2[1]* p2[1]- p1[1] * p1[1]\n",
    "    xy32 = p3[0] * p3[0] - p2[0] * p2[0] + p3[1] * p3[1] - p2[1] * p2[1]\n",
    "    y0 = (x32 * xy21 - x21 * xy32) / (2 * (y21 * x32 - y32 * x21))\n",
    "    x0 = (xy21 - 2 * y0 * y21) / (2.0 * x21)\n",
    "    circle.append(x0)\n",
    "    circle.append(y0)\n",
    "    return circle\n",
    "\n",
    "\n",
    "num.sort(key=lambda k:k[2],reverse=False)\n",
    "#print(num)\n",
    "res=[]\n",
    "#误差设计\n",
    "interval=370;\n",
    "for i in range(len(num)):\n",
    "    for j in range(i+1,len(num)):\n",
    "        if num[j][2]-num[i][2]>interval:\n",
    "            break\n",
    "        for n in range(j+1,len(num)):\n",
    "            if num[n][2]-num[i][2]>interval:\n",
    "                break\n",
    "            ans=getCircle(num[i],num[j],num[n])\n",
    "            if ans:\n",
    "                x1.append(ans[0])\n",
    "                x2.append(ans[1])\n",
    "#print(x1,x2)\n"
   ]
  },
  {
   "cell_type": "code",
   "execution_count": 4,
   "metadata": {
    "scrolled": true
   },
   "outputs": [
    {
     "data": {
      "image/png": "[encoded data removed]",
      "text/plain": [
       "<Figure size 432x288 with 1 Axes>"
      ]
     },
     "metadata": {
      "needs_background": "light"
     },
     "output_type": "display_data"
    },
    {
     "name": "stdout",
     "output_type": "stream",
     "text": [
      "[[100.         106.        ]\n",
      " [100.          99.75      ]\n",
      " [100.02380952  99.92857143]\n",
      " ...\n",
      " [101.5         95.5       ]\n",
      " [101.          97.        ]\n",
      " [100.5         99.5       ]]\n"
     ]
    }
   ],
   "source": [
    "plt.plot(x1,x2,'ro')\n",
    "plt.show()\n",
    "x_=np.array(x1)\n",
    "x_.reshape(-1,1)\n",
    "y_=np.array(x2)\n",
    "y_.reshape(-1,1)\n",
    "\n",
    "xn=np.array([x_,y_])\n",
    "Xn=np.transpose(xn)\n",
    "dataLen = len(Xn)\n",
    "print(Xn)"
   ]
  },
  {
   "cell_type": "code",
   "execution_count": 5,
   "metadata": {
    "scrolled": true
   },
   "outputs": [
    {
     "name": "stdout",
     "output_type": "stream",
     "text": [
      "100.00678641047062\n",
      "99.97962127541076\n"
     ]
    }
   ],
   "source": [
    "from sklearn.cluster import OPTICS\n",
    "minNum=len(num)//5\n",
    "clust = OPTICS(min_samples=minNum)\n",
    "y_pred=clust.fit_predict(Xn)\n",
    "\n",
    "y_pred = y_pred.tolist()\n",
    "X=[]\n",
    "Y = []\n",
    "count = 0\n",
    "for i in y_pred:\n",
    "    if(i == 0):\n",
    "        X.append(Xn[count][0])\n",
    "        Y.append(Xn[count][1])\n",
    "    count = count + 1\n",
    "\n",
    "x_sum = 0\n",
    "y_sum = 0\n",
    "for i in X:\n",
    "    x_sum = x_sum + i\n",
    "for j in Y:\n",
    "    y_sum = y_sum + j\n",
    "print(x_sum/len(X))\n",
    "print(y_sum/len(Y))"
   ]
  }
 ],
 "metadata": {
  "anaconda-cloud": {},
  "kernelspec": {
   "display_name": "Python 3",
   "language": "python",
   "name": "python3"
  },
  "language_info": {
   "codemirror_mode": {
    "name": "ipython",
    "version": 3
   },
   "file_extension": ".py",
   "mimetype": "text/x-python",
   "name": "python",
   "nbconvert_exporter": "python",
   "pygments_lexer": "ipython3",
   "version": "3.7.1rc2"
  }
 },
 "nbformat": 4,
 "nbformat_minor": 1
}
